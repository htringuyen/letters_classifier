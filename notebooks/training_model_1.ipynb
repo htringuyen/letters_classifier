{
 "cells": [
  {
   "cell_type": "code",
   "execution_count": 55,
   "metadata": {
    "collapsed": true
   },
   "outputs": [],
   "source": [
    "from src.data_container import DataContainer\n",
    "import numpy as np\n",
    "from sklearn.neighbors import KNeighborsClassifier\n",
    "from sklearn.ensemble import RandomForestClassifier\n",
    "import pandas as pd\n",
    "from sklearn.metrics import ConfusionMatrixDisplay\n",
    "from matplotlib import pyplot as plt\n",
    "import src.emnist_utils as utils\n",
    "from sklearn.preprocessing import OneHotEncoder\n",
    "from sklearn.model_selection import GridSearchCV\n",
    "from sklearn.model_selection import cross_val_score\n",
    "from sklearn.pipeline import Pipeline\n",
    "from sklearn.preprocessing import StandardScaler\n",
    "from sklearn.preprocessing import MinMaxScaler\n",
    "from sklearn.model_selection import RandomizedSearchCV\n",
    "from scipy.stats import randint"
   ]
  },
  {
   "cell_type": "code",
   "execution_count": null,
   "outputs": [],
   "source": [
    "dc = DataContainer()\n",
    "dc.load_emnist()"
   ],
   "metadata": {
    "collapsed": false
   }
  },
  {
   "cell_type": "code",
   "execution_count": null,
   "outputs": [],
   "source": [
    "y_train_series = pd.Series(dc.y_train)"
   ],
   "metadata": {
    "collapsed": false
   }
  },
  {
   "cell_type": "code",
   "execution_count": null,
   "outputs": [],
   "source": [
    "y_train_series.value_counts()"
   ],
   "metadata": {
    "collapsed": false
   }
  },
  {
   "cell_type": "code",
   "execution_count": null,
   "outputs": [],
   "source": [
    "knn_clf = KNeighborsClassifier(n_neighbors=5, algorithm='ball_tree', weights='distance', n_jobs=4)"
   ],
   "metadata": {
    "collapsed": false
   }
  },
  {
   "cell_type": "code",
   "execution_count": null,
   "outputs": [],
   "source": [
    "cross_val_score(knn_clf, dc.X_train, dc.y_train, cv=5, scoring='accuracy')"
   ],
   "metadata": {
    "collapsed": false
   }
  },
  {
   "cell_type": "code",
   "execution_count": 17,
   "outputs": [
    {
     "data": {
      "text/plain": "0.7888297872340425"
     },
     "execution_count": 17,
     "metadata": {},
     "output_type": "execute_result"
    }
   ],
   "source": [
    "knn_clf.score(dc.X_test, dc.y_test)"
   ],
   "metadata": {
    "collapsed": false
   }
  },
  {
   "cell_type": "code",
   "execution_count": 21,
   "outputs": [],
   "source": [
    "scaler = StandardScaler()\n",
    "knn_est = KNeighborsClassifier(n_neighbors=5, algorithm='ball_tree', weights='distance', n_jobs=4)\n",
    "knn_pipe = Pipeline([('scaler', scaler), ('knn', knn_est)])"
   ],
   "metadata": {
    "collapsed": false
   }
  },
  {
   "cell_type": "code",
   "execution_count": 22,
   "outputs": [
    {
     "data": {
      "text/plain": "{'memory': None,\n 'steps': [('scaler', StandardScaler()),\n  ('knn',\n   KNeighborsClassifier(algorithm='ball_tree', n_jobs=4, weights='distance'))],\n 'verbose': False,\n 'scaler': StandardScaler(),\n 'knn': KNeighborsClassifier(algorithm='ball_tree', n_jobs=4, weights='distance'),\n 'scaler__copy': True,\n 'scaler__with_mean': True,\n 'scaler__with_std': True,\n 'knn__algorithm': 'ball_tree',\n 'knn__leaf_size': 30,\n 'knn__metric': 'minkowski',\n 'knn__metric_params': None,\n 'knn__n_jobs': 4,\n 'knn__n_neighbors': 5,\n 'knn__p': 2,\n 'knn__weights': 'distance'}"
     },
     "execution_count": 22,
     "metadata": {},
     "output_type": "execute_result"
    }
   ],
   "source": [
    "knn_pipe.get_params()"
   ],
   "metadata": {
    "collapsed": false
   }
  },
  {
   "cell_type": "code",
   "execution_count": 23,
   "outputs": [],
   "source": [
    "scaled_X = scaler.fit_transform(dc.X_train[0:1000])"
   ],
   "metadata": {
    "collapsed": false
   }
  },
  {
   "cell_type": "code",
   "execution_count": 24,
   "outputs": [
    {
     "data": {
      "text/plain": "array([[0., 0., 0., ..., 0., 0., 0.],\n       [0., 0., 0., ..., 0., 0., 0.],\n       [0., 0., 0., ..., 0., 0., 0.],\n       ...,\n       [0., 0., 0., ..., 0., 0., 0.],\n       [0., 0., 0., ..., 0., 0., 0.],\n       [0., 0., 0., ..., 0., 0., 0.]])"
     },
     "execution_count": 24,
     "metadata": {},
     "output_type": "execute_result"
    }
   ],
   "source": [
    "scaled_X"
   ],
   "metadata": {
    "collapsed": false
   }
  },
  {
   "cell_type": "code",
   "execution_count": 25,
   "outputs": [
    {
     "data": {
      "text/plain": "Pipeline(steps=[('scaler', StandardScaler()),\n                ('knn',\n                 KNeighborsClassifier(algorithm='ball_tree', n_jobs=4,\n                                      weights='distance'))])",
      "text/html": "<style>#sk-container-id-2 {color: black;background-color: white;}#sk-container-id-2 pre{padding: 0;}#sk-container-id-2 div.sk-toggleable {background-color: white;}#sk-container-id-2 label.sk-toggleable__label {cursor: pointer;display: block;width: 100%;margin-bottom: 0;padding: 0.3em;box-sizing: border-box;text-align: center;}#sk-container-id-2 label.sk-toggleable__label-arrow:before {content: \"▸\";float: left;margin-right: 0.25em;color: #696969;}#sk-container-id-2 label.sk-toggleable__label-arrow:hover:before {color: black;}#sk-container-id-2 div.sk-estimator:hover label.sk-toggleable__label-arrow:before {color: black;}#sk-container-id-2 div.sk-toggleable__content {max-height: 0;max-width: 0;overflow: hidden;text-align: left;background-color: #f0f8ff;}#sk-container-id-2 div.sk-toggleable__content pre {margin: 0.2em;color: black;border-radius: 0.25em;background-color: #f0f8ff;}#sk-container-id-2 input.sk-toggleable__control:checked~div.sk-toggleable__content {max-height: 200px;max-width: 100%;overflow: auto;}#sk-container-id-2 input.sk-toggleable__control:checked~label.sk-toggleable__label-arrow:before {content: \"▾\";}#sk-container-id-2 div.sk-estimator input.sk-toggleable__control:checked~label.sk-toggleable__label {background-color: #d4ebff;}#sk-container-id-2 div.sk-label input.sk-toggleable__control:checked~label.sk-toggleable__label {background-color: #d4ebff;}#sk-container-id-2 input.sk-hidden--visually {border: 0;clip: rect(1px 1px 1px 1px);clip: rect(1px, 1px, 1px, 1px);height: 1px;margin: -1px;overflow: hidden;padding: 0;position: absolute;width: 1px;}#sk-container-id-2 div.sk-estimator {font-family: monospace;background-color: #f0f8ff;border: 1px dotted black;border-radius: 0.25em;box-sizing: border-box;margin-bottom: 0.5em;}#sk-container-id-2 div.sk-estimator:hover {background-color: #d4ebff;}#sk-container-id-2 div.sk-parallel-item::after {content: \"\";width: 100%;border-bottom: 1px solid gray;flex-grow: 1;}#sk-container-id-2 div.sk-label:hover label.sk-toggleable__label {background-color: #d4ebff;}#sk-container-id-2 div.sk-serial::before {content: \"\";position: absolute;border-left: 1px solid gray;box-sizing: border-box;top: 0;bottom: 0;left: 50%;z-index: 0;}#sk-container-id-2 div.sk-serial {display: flex;flex-direction: column;align-items: center;background-color: white;padding-right: 0.2em;padding-left: 0.2em;position: relative;}#sk-container-id-2 div.sk-item {position: relative;z-index: 1;}#sk-container-id-2 div.sk-parallel {display: flex;align-items: stretch;justify-content: center;background-color: white;position: relative;}#sk-container-id-2 div.sk-item::before, #sk-container-id-2 div.sk-parallel-item::before {content: \"\";position: absolute;border-left: 1px solid gray;box-sizing: border-box;top: 0;bottom: 0;left: 50%;z-index: -1;}#sk-container-id-2 div.sk-parallel-item {display: flex;flex-direction: column;z-index: 1;position: relative;background-color: white;}#sk-container-id-2 div.sk-parallel-item:first-child::after {align-self: flex-end;width: 50%;}#sk-container-id-2 div.sk-parallel-item:last-child::after {align-self: flex-start;width: 50%;}#sk-container-id-2 div.sk-parallel-item:only-child::after {width: 0;}#sk-container-id-2 div.sk-dashed-wrapped {border: 1px dashed gray;margin: 0 0.4em 0.5em 0.4em;box-sizing: border-box;padding-bottom: 0.4em;background-color: white;}#sk-container-id-2 div.sk-label label {font-family: monospace;font-weight: bold;display: inline-block;line-height: 1.2em;}#sk-container-id-2 div.sk-label-container {text-align: center;}#sk-container-id-2 div.sk-container {/* jupyter's `normalize.less` sets `[hidden] { display: none; }` but bootstrap.min.css set `[hidden] { display: none !important; }` so we also need the `!important` here to be able to override the default hidden behavior on the sphinx rendered scikit-learn.org. See: https://github.com/scikit-learn/scikit-learn/issues/21755 */display: inline-block !important;position: relative;}#sk-container-id-2 div.sk-text-repr-fallback {display: none;}</style><div id=\"sk-container-id-2\" class=\"sk-top-container\"><div class=\"sk-text-repr-fallback\"><pre>Pipeline(steps=[(&#x27;scaler&#x27;, StandardScaler()),\n                (&#x27;knn&#x27;,\n                 KNeighborsClassifier(algorithm=&#x27;ball_tree&#x27;, n_jobs=4,\n                                      weights=&#x27;distance&#x27;))])</pre><b>In a Jupyter environment, please rerun this cell to show the HTML representation or trust the notebook. <br />On GitHub, the HTML representation is unable to render, please try loading this page with nbviewer.org.</b></div><div class=\"sk-container\" hidden><div class=\"sk-item sk-dashed-wrapped\"><div class=\"sk-label-container\"><div class=\"sk-label sk-toggleable\"><input class=\"sk-toggleable__control sk-hidden--visually\" id=\"sk-estimator-id-2\" type=\"checkbox\" ><label for=\"sk-estimator-id-2\" class=\"sk-toggleable__label sk-toggleable__label-arrow\">Pipeline</label><div class=\"sk-toggleable__content\"><pre>Pipeline(steps=[(&#x27;scaler&#x27;, StandardScaler()),\n                (&#x27;knn&#x27;,\n                 KNeighborsClassifier(algorithm=&#x27;ball_tree&#x27;, n_jobs=4,\n                                      weights=&#x27;distance&#x27;))])</pre></div></div></div><div class=\"sk-serial\"><div class=\"sk-item\"><div class=\"sk-estimator sk-toggleable\"><input class=\"sk-toggleable__control sk-hidden--visually\" id=\"sk-estimator-id-3\" type=\"checkbox\" ><label for=\"sk-estimator-id-3\" class=\"sk-toggleable__label sk-toggleable__label-arrow\">StandardScaler</label><div class=\"sk-toggleable__content\"><pre>StandardScaler()</pre></div></div></div><div class=\"sk-item\"><div class=\"sk-estimator sk-toggleable\"><input class=\"sk-toggleable__control sk-hidden--visually\" id=\"sk-estimator-id-4\" type=\"checkbox\" ><label for=\"sk-estimator-id-4\" class=\"sk-toggleable__label sk-toggleable__label-arrow\">KNeighborsClassifier</label><div class=\"sk-toggleable__content\"><pre>KNeighborsClassifier(algorithm=&#x27;ball_tree&#x27;, n_jobs=4, weights=&#x27;distance&#x27;)</pre></div></div></div></div></div></div></div>"
     },
     "execution_count": 25,
     "metadata": {},
     "output_type": "execute_result"
    }
   ],
   "source": [
    "knn_pipe.fit(dc.X_train, dc.y_train)"
   ],
   "metadata": {
    "collapsed": false
   }
  },
  {
   "cell_type": "code",
   "execution_count": 26,
   "outputs": [
    {
     "data": {
      "text/plain": "0.7567553191489361"
     },
     "execution_count": 26,
     "metadata": {},
     "output_type": "execute_result"
    }
   ],
   "source": [
    "knn_pipe.score(dc.X_test, dc.y_test)"
   ],
   "metadata": {
    "collapsed": false
   }
  },
  {
   "cell_type": "code",
   "execution_count": 29,
   "outputs": [],
   "source": [
    "scaler = MinMaxScaler()\n",
    "knn_est = KNeighborsClassifier(n_neighbors=5, algorithm='ball_tree', weights='distance', n_jobs=4)\n",
    "knn_pipe = Pipeline([('scaler', scaler), ('knn', knn_est)])"
   ],
   "metadata": {
    "collapsed": false
   }
  },
  {
   "cell_type": "code",
   "execution_count": 30,
   "outputs": [
    {
     "data": {
      "text/plain": "array([[0., 0., 0., ..., 0., 0., 0.],\n       [0., 0., 0., ..., 0., 0., 0.],\n       [0., 0., 0., ..., 0., 0., 0.],\n       ...,\n       [0., 0., 0., ..., 0., 0., 0.],\n       [0., 0., 0., ..., 0., 0., 0.],\n       [0., 0., 0., ..., 0., 0., 0.]])"
     },
     "execution_count": 30,
     "metadata": {},
     "output_type": "execute_result"
    }
   ],
   "source": [
    "scaler.fit_transform(dc.X_train[0:1000])"
   ],
   "metadata": {
    "collapsed": false
   }
  },
  {
   "cell_type": "code",
   "execution_count": 31,
   "outputs": [
    {
     "data": {
      "text/plain": "Pipeline(steps=[('scaler', MinMaxScaler()),\n                ('knn',\n                 KNeighborsClassifier(algorithm='ball_tree', n_jobs=4,\n                                      weights='distance'))])",
      "text/html": "<style>#sk-container-id-3 {color: black;background-color: white;}#sk-container-id-3 pre{padding: 0;}#sk-container-id-3 div.sk-toggleable {background-color: white;}#sk-container-id-3 label.sk-toggleable__label {cursor: pointer;display: block;width: 100%;margin-bottom: 0;padding: 0.3em;box-sizing: border-box;text-align: center;}#sk-container-id-3 label.sk-toggleable__label-arrow:before {content: \"▸\";float: left;margin-right: 0.25em;color: #696969;}#sk-container-id-3 label.sk-toggleable__label-arrow:hover:before {color: black;}#sk-container-id-3 div.sk-estimator:hover label.sk-toggleable__label-arrow:before {color: black;}#sk-container-id-3 div.sk-toggleable__content {max-height: 0;max-width: 0;overflow: hidden;text-align: left;background-color: #f0f8ff;}#sk-container-id-3 div.sk-toggleable__content pre {margin: 0.2em;color: black;border-radius: 0.25em;background-color: #f0f8ff;}#sk-container-id-3 input.sk-toggleable__control:checked~div.sk-toggleable__content {max-height: 200px;max-width: 100%;overflow: auto;}#sk-container-id-3 input.sk-toggleable__control:checked~label.sk-toggleable__label-arrow:before {content: \"▾\";}#sk-container-id-3 div.sk-estimator input.sk-toggleable__control:checked~label.sk-toggleable__label {background-color: #d4ebff;}#sk-container-id-3 div.sk-label input.sk-toggleable__control:checked~label.sk-toggleable__label {background-color: #d4ebff;}#sk-container-id-3 input.sk-hidden--visually {border: 0;clip: rect(1px 1px 1px 1px);clip: rect(1px, 1px, 1px, 1px);height: 1px;margin: -1px;overflow: hidden;padding: 0;position: absolute;width: 1px;}#sk-container-id-3 div.sk-estimator {font-family: monospace;background-color: #f0f8ff;border: 1px dotted black;border-radius: 0.25em;box-sizing: border-box;margin-bottom: 0.5em;}#sk-container-id-3 div.sk-estimator:hover {background-color: #d4ebff;}#sk-container-id-3 div.sk-parallel-item::after {content: \"\";width: 100%;border-bottom: 1px solid gray;flex-grow: 1;}#sk-container-id-3 div.sk-label:hover label.sk-toggleable__label {background-color: #d4ebff;}#sk-container-id-3 div.sk-serial::before {content: \"\";position: absolute;border-left: 1px solid gray;box-sizing: border-box;top: 0;bottom: 0;left: 50%;z-index: 0;}#sk-container-id-3 div.sk-serial {display: flex;flex-direction: column;align-items: center;background-color: white;padding-right: 0.2em;padding-left: 0.2em;position: relative;}#sk-container-id-3 div.sk-item {position: relative;z-index: 1;}#sk-container-id-3 div.sk-parallel {display: flex;align-items: stretch;justify-content: center;background-color: white;position: relative;}#sk-container-id-3 div.sk-item::before, #sk-container-id-3 div.sk-parallel-item::before {content: \"\";position: absolute;border-left: 1px solid gray;box-sizing: border-box;top: 0;bottom: 0;left: 50%;z-index: -1;}#sk-container-id-3 div.sk-parallel-item {display: flex;flex-direction: column;z-index: 1;position: relative;background-color: white;}#sk-container-id-3 div.sk-parallel-item:first-child::after {align-self: flex-end;width: 50%;}#sk-container-id-3 div.sk-parallel-item:last-child::after {align-self: flex-start;width: 50%;}#sk-container-id-3 div.sk-parallel-item:only-child::after {width: 0;}#sk-container-id-3 div.sk-dashed-wrapped {border: 1px dashed gray;margin: 0 0.4em 0.5em 0.4em;box-sizing: border-box;padding-bottom: 0.4em;background-color: white;}#sk-container-id-3 div.sk-label label {font-family: monospace;font-weight: bold;display: inline-block;line-height: 1.2em;}#sk-container-id-3 div.sk-label-container {text-align: center;}#sk-container-id-3 div.sk-container {/* jupyter's `normalize.less` sets `[hidden] { display: none; }` but bootstrap.min.css set `[hidden] { display: none !important; }` so we also need the `!important` here to be able to override the default hidden behavior on the sphinx rendered scikit-learn.org. See: https://github.com/scikit-learn/scikit-learn/issues/21755 */display: inline-block !important;position: relative;}#sk-container-id-3 div.sk-text-repr-fallback {display: none;}</style><div id=\"sk-container-id-3\" class=\"sk-top-container\"><div class=\"sk-text-repr-fallback\"><pre>Pipeline(steps=[(&#x27;scaler&#x27;, MinMaxScaler()),\n                (&#x27;knn&#x27;,\n                 KNeighborsClassifier(algorithm=&#x27;ball_tree&#x27;, n_jobs=4,\n                                      weights=&#x27;distance&#x27;))])</pre><b>In a Jupyter environment, please rerun this cell to show the HTML representation or trust the notebook. <br />On GitHub, the HTML representation is unable to render, please try loading this page with nbviewer.org.</b></div><div class=\"sk-container\" hidden><div class=\"sk-item sk-dashed-wrapped\"><div class=\"sk-label-container\"><div class=\"sk-label sk-toggleable\"><input class=\"sk-toggleable__control sk-hidden--visually\" id=\"sk-estimator-id-5\" type=\"checkbox\" ><label for=\"sk-estimator-id-5\" class=\"sk-toggleable__label sk-toggleable__label-arrow\">Pipeline</label><div class=\"sk-toggleable__content\"><pre>Pipeline(steps=[(&#x27;scaler&#x27;, MinMaxScaler()),\n                (&#x27;knn&#x27;,\n                 KNeighborsClassifier(algorithm=&#x27;ball_tree&#x27;, n_jobs=4,\n                                      weights=&#x27;distance&#x27;))])</pre></div></div></div><div class=\"sk-serial\"><div class=\"sk-item\"><div class=\"sk-estimator sk-toggleable\"><input class=\"sk-toggleable__control sk-hidden--visually\" id=\"sk-estimator-id-6\" type=\"checkbox\" ><label for=\"sk-estimator-id-6\" class=\"sk-toggleable__label sk-toggleable__label-arrow\">MinMaxScaler</label><div class=\"sk-toggleable__content\"><pre>MinMaxScaler()</pre></div></div></div><div class=\"sk-item\"><div class=\"sk-estimator sk-toggleable\"><input class=\"sk-toggleable__control sk-hidden--visually\" id=\"sk-estimator-id-7\" type=\"checkbox\" ><label for=\"sk-estimator-id-7\" class=\"sk-toggleable__label sk-toggleable__label-arrow\">KNeighborsClassifier</label><div class=\"sk-toggleable__content\"><pre>KNeighborsClassifier(algorithm=&#x27;ball_tree&#x27;, n_jobs=4, weights=&#x27;distance&#x27;)</pre></div></div></div></div></div></div></div>"
     },
     "execution_count": 31,
     "metadata": {},
     "output_type": "execute_result"
    }
   ],
   "source": [
    "knn_pipe.fit(dc.X_train, dc.y_train)"
   ],
   "metadata": {
    "collapsed": false
   }
  },
  {
   "cell_type": "code",
   "execution_count": 32,
   "outputs": [
    {
     "data": {
      "text/plain": "0.7888297872340425"
     },
     "execution_count": 32,
     "metadata": {},
     "output_type": "execute_result"
    }
   ],
   "source": [
    "knn_pipe.score(dc.X_test, dc.y_test)"
   ],
   "metadata": {
    "collapsed": false
   }
  },
  {
   "cell_type": "code",
   "execution_count": 34,
   "outputs": [],
   "source": [
    "scaler = MinMaxScaler()\n",
    "rf_clf = RandomForestClassifier(n_estimators=100, n_jobs=4, random_state=42)\n",
    "rf_pipe = Pipeline([('scaler', scaler), ('rf', rf_clf)])"
   ],
   "metadata": {
    "collapsed": false
   }
  },
  {
   "cell_type": "code",
   "execution_count": 35,
   "outputs": [
    {
     "data": {
      "text/plain": "Pipeline(steps=[('scaler', MinMaxScaler()),\n                ('rf', RandomForestClassifier(n_jobs=4, random_state=42))])",
      "text/html": "<style>#sk-container-id-4 {color: black;background-color: white;}#sk-container-id-4 pre{padding: 0;}#sk-container-id-4 div.sk-toggleable {background-color: white;}#sk-container-id-4 label.sk-toggleable__label {cursor: pointer;display: block;width: 100%;margin-bottom: 0;padding: 0.3em;box-sizing: border-box;text-align: center;}#sk-container-id-4 label.sk-toggleable__label-arrow:before {content: \"▸\";float: left;margin-right: 0.25em;color: #696969;}#sk-container-id-4 label.sk-toggleable__label-arrow:hover:before {color: black;}#sk-container-id-4 div.sk-estimator:hover label.sk-toggleable__label-arrow:before {color: black;}#sk-container-id-4 div.sk-toggleable__content {max-height: 0;max-width: 0;overflow: hidden;text-align: left;background-color: #f0f8ff;}#sk-container-id-4 div.sk-toggleable__content pre {margin: 0.2em;color: black;border-radius: 0.25em;background-color: #f0f8ff;}#sk-container-id-4 input.sk-toggleable__control:checked~div.sk-toggleable__content {max-height: 200px;max-width: 100%;overflow: auto;}#sk-container-id-4 input.sk-toggleable__control:checked~label.sk-toggleable__label-arrow:before {content: \"▾\";}#sk-container-id-4 div.sk-estimator input.sk-toggleable__control:checked~label.sk-toggleable__label {background-color: #d4ebff;}#sk-container-id-4 div.sk-label input.sk-toggleable__control:checked~label.sk-toggleable__label {background-color: #d4ebff;}#sk-container-id-4 input.sk-hidden--visually {border: 0;clip: rect(1px 1px 1px 1px);clip: rect(1px, 1px, 1px, 1px);height: 1px;margin: -1px;overflow: hidden;padding: 0;position: absolute;width: 1px;}#sk-container-id-4 div.sk-estimator {font-family: monospace;background-color: #f0f8ff;border: 1px dotted black;border-radius: 0.25em;box-sizing: border-box;margin-bottom: 0.5em;}#sk-container-id-4 div.sk-estimator:hover {background-color: #d4ebff;}#sk-container-id-4 div.sk-parallel-item::after {content: \"\";width: 100%;border-bottom: 1px solid gray;flex-grow: 1;}#sk-container-id-4 div.sk-label:hover label.sk-toggleable__label {background-color: #d4ebff;}#sk-container-id-4 div.sk-serial::before {content: \"\";position: absolute;border-left: 1px solid gray;box-sizing: border-box;top: 0;bottom: 0;left: 50%;z-index: 0;}#sk-container-id-4 div.sk-serial {display: flex;flex-direction: column;align-items: center;background-color: white;padding-right: 0.2em;padding-left: 0.2em;position: relative;}#sk-container-id-4 div.sk-item {position: relative;z-index: 1;}#sk-container-id-4 div.sk-parallel {display: flex;align-items: stretch;justify-content: center;background-color: white;position: relative;}#sk-container-id-4 div.sk-item::before, #sk-container-id-4 div.sk-parallel-item::before {content: \"\";position: absolute;border-left: 1px solid gray;box-sizing: border-box;top: 0;bottom: 0;left: 50%;z-index: -1;}#sk-container-id-4 div.sk-parallel-item {display: flex;flex-direction: column;z-index: 1;position: relative;background-color: white;}#sk-container-id-4 div.sk-parallel-item:first-child::after {align-self: flex-end;width: 50%;}#sk-container-id-4 div.sk-parallel-item:last-child::after {align-self: flex-start;width: 50%;}#sk-container-id-4 div.sk-parallel-item:only-child::after {width: 0;}#sk-container-id-4 div.sk-dashed-wrapped {border: 1px dashed gray;margin: 0 0.4em 0.5em 0.4em;box-sizing: border-box;padding-bottom: 0.4em;background-color: white;}#sk-container-id-4 div.sk-label label {font-family: monospace;font-weight: bold;display: inline-block;line-height: 1.2em;}#sk-container-id-4 div.sk-label-container {text-align: center;}#sk-container-id-4 div.sk-container {/* jupyter's `normalize.less` sets `[hidden] { display: none; }` but bootstrap.min.css set `[hidden] { display: none !important; }` so we also need the `!important` here to be able to override the default hidden behavior on the sphinx rendered scikit-learn.org. See: https://github.com/scikit-learn/scikit-learn/issues/21755 */display: inline-block !important;position: relative;}#sk-container-id-4 div.sk-text-repr-fallback {display: none;}</style><div id=\"sk-container-id-4\" class=\"sk-top-container\"><div class=\"sk-text-repr-fallback\"><pre>Pipeline(steps=[(&#x27;scaler&#x27;, MinMaxScaler()),\n                (&#x27;rf&#x27;, RandomForestClassifier(n_jobs=4, random_state=42))])</pre><b>In a Jupyter environment, please rerun this cell to show the HTML representation or trust the notebook. <br />On GitHub, the HTML representation is unable to render, please try loading this page with nbviewer.org.</b></div><div class=\"sk-container\" hidden><div class=\"sk-item sk-dashed-wrapped\"><div class=\"sk-label-container\"><div class=\"sk-label sk-toggleable\"><input class=\"sk-toggleable__control sk-hidden--visually\" id=\"sk-estimator-id-8\" type=\"checkbox\" ><label for=\"sk-estimator-id-8\" class=\"sk-toggleable__label sk-toggleable__label-arrow\">Pipeline</label><div class=\"sk-toggleable__content\"><pre>Pipeline(steps=[(&#x27;scaler&#x27;, MinMaxScaler()),\n                (&#x27;rf&#x27;, RandomForestClassifier(n_jobs=4, random_state=42))])</pre></div></div></div><div class=\"sk-serial\"><div class=\"sk-item\"><div class=\"sk-estimator sk-toggleable\"><input class=\"sk-toggleable__control sk-hidden--visually\" id=\"sk-estimator-id-9\" type=\"checkbox\" ><label for=\"sk-estimator-id-9\" class=\"sk-toggleable__label sk-toggleable__label-arrow\">MinMaxScaler</label><div class=\"sk-toggleable__content\"><pre>MinMaxScaler()</pre></div></div></div><div class=\"sk-item\"><div class=\"sk-estimator sk-toggleable\"><input class=\"sk-toggleable__control sk-hidden--visually\" id=\"sk-estimator-id-10\" type=\"checkbox\" ><label for=\"sk-estimator-id-10\" class=\"sk-toggleable__label sk-toggleable__label-arrow\">RandomForestClassifier</label><div class=\"sk-toggleable__content\"><pre>RandomForestClassifier(n_jobs=4, random_state=42)</pre></div></div></div></div></div></div></div>"
     },
     "execution_count": 35,
     "metadata": {},
     "output_type": "execute_result"
    }
   ],
   "source": [
    "rf_pipe.fit(dc.X_train, dc.y_train)"
   ],
   "metadata": {
    "collapsed": false
   }
  },
  {
   "cell_type": "code",
   "execution_count": 36,
   "outputs": [
    {
     "data": {
      "text/plain": "array([0.80531915, 0.81050532, 0.80585106, 0.81276596, 0.80802305])"
     },
     "execution_count": 36,
     "metadata": {},
     "output_type": "execute_result"
    }
   ],
   "source": [
    "cross_val_score(rf_pipe, dc.X_train, dc.y_train, cv=5, scoring='accuracy')"
   ],
   "metadata": {
    "collapsed": false
   }
  },
  {
   "cell_type": "code",
   "execution_count": 37,
   "outputs": [
    {
     "data": {
      "text/plain": "1.0"
     },
     "execution_count": 37,
     "metadata": {},
     "output_type": "execute_result"
    }
   ],
   "source": [
    "rf_pipe.score(dc.X_train, dc.y_train)"
   ],
   "metadata": {
    "collapsed": false
   }
  },
  {
   "cell_type": "code",
   "execution_count": 38,
   "outputs": [
    {
     "data": {
      "text/plain": "{'memory': None,\n 'steps': [('scaler', MinMaxScaler()),\n  ('rf', RandomForestClassifier(n_jobs=4, random_state=42))],\n 'verbose': False,\n 'scaler': MinMaxScaler(),\n 'rf': RandomForestClassifier(n_jobs=4, random_state=42),\n 'scaler__clip': False,\n 'scaler__copy': True,\n 'scaler__feature_range': (0, 1),\n 'rf__bootstrap': True,\n 'rf__ccp_alpha': 0.0,\n 'rf__class_weight': None,\n 'rf__criterion': 'gini',\n 'rf__max_depth': None,\n 'rf__max_features': 'sqrt',\n 'rf__max_leaf_nodes': None,\n 'rf__max_samples': None,\n 'rf__min_impurity_decrease': 0.0,\n 'rf__min_samples_leaf': 1,\n 'rf__min_samples_split': 2,\n 'rf__min_weight_fraction_leaf': 0.0,\n 'rf__n_estimators': 100,\n 'rf__n_jobs': 4,\n 'rf__oob_score': False,\n 'rf__random_state': 42,\n 'rf__verbose': 0,\n 'rf__warm_start': False}"
     },
     "execution_count": 38,
     "metadata": {},
     "output_type": "execute_result"
    }
   ],
   "source": [
    "rf_pipe.get_params()"
   ],
   "metadata": {
    "collapsed": false
   }
  },
  {
   "cell_type": "code",
   "execution_count": 52,
   "outputs": [
    {
     "data": {
      "text/plain": "array(['x0', 'x1', 'x2', 'x3', 'x4', 'x5', 'x6', 'x7', 'x8', 'x9', 'x10',\n       'x11', 'x12', 'x13', 'x14', 'x15', 'x16', 'x17', 'x18', 'x19',\n       'x20', 'x21', 'x22', 'x23', 'x24', 'x25', 'x26', 'x27', 'x28',\n       'x29', 'x30', 'x31', 'x32', 'x33', 'x34', 'x35', 'x36', 'x37',\n       'x38', 'x39', 'x40', 'x41', 'x42', 'x43', 'x44', 'x45', 'x46',\n       'x47', 'x48', 'x49', 'x50', 'x51', 'x52', 'x53', 'x54', 'x55',\n       'x56', 'x57', 'x58', 'x59', 'x60', 'x61', 'x62', 'x63', 'x64',\n       'x65', 'x66', 'x67', 'x68', 'x69', 'x70', 'x71', 'x72', 'x73',\n       'x74', 'x75', 'x76', 'x77', 'x78', 'x79', 'x80', 'x81', 'x82',\n       'x83', 'x84', 'x85', 'x86', 'x87', 'x88', 'x89', 'x90', 'x91',\n       'x92', 'x93', 'x94', 'x95', 'x96', 'x97', 'x98', 'x99', 'x100',\n       'x101', 'x102', 'x103', 'x104', 'x105', 'x106', 'x107', 'x108',\n       'x109', 'x110', 'x111', 'x112', 'x113', 'x114', 'x115', 'x116',\n       'x117', 'x118', 'x119', 'x120', 'x121', 'x122', 'x123', 'x124',\n       'x125', 'x126', 'x127', 'x128', 'x129', 'x130', 'x131', 'x132',\n       'x133', 'x134', 'x135', 'x136', 'x137', 'x138', 'x139', 'x140',\n       'x141', 'x142', 'x143', 'x144', 'x145', 'x146', 'x147', 'x148',\n       'x149', 'x150', 'x151', 'x152', 'x153', 'x154', 'x155', 'x156',\n       'x157', 'x158', 'x159', 'x160', 'x161', 'x162', 'x163', 'x164',\n       'x165', 'x166', 'x167', 'x168', 'x169', 'x170', 'x171', 'x172',\n       'x173', 'x174', 'x175', 'x176', 'x177', 'x178', 'x179', 'x180',\n       'x181', 'x182', 'x183', 'x184', 'x185', 'x186', 'x187', 'x188',\n       'x189', 'x190', 'x191', 'x192', 'x193', 'x194', 'x195', 'x196',\n       'x197', 'x198', 'x199', 'x200', 'x201', 'x202', 'x203', 'x204',\n       'x205', 'x206', 'x207', 'x208', 'x209', 'x210', 'x211', 'x212',\n       'x213', 'x214', 'x215', 'x216', 'x217', 'x218', 'x219', 'x220',\n       'x221', 'x222', 'x223', 'x224', 'x225', 'x226', 'x227', 'x228',\n       'x229', 'x230', 'x231', 'x232', 'x233', 'x234', 'x235', 'x236',\n       'x237', 'x238', 'x239', 'x240', 'x241', 'x242', 'x243', 'x244',\n       'x245', 'x246', 'x247', 'x248', 'x249', 'x250', 'x251', 'x252',\n       'x253', 'x254', 'x255', 'x256', 'x257', 'x258', 'x259', 'x260',\n       'x261', 'x262', 'x263', 'x264', 'x265', 'x266', 'x267', 'x268',\n       'x269', 'x270', 'x271', 'x272', 'x273', 'x274', 'x275', 'x276',\n       'x277', 'x278', 'x279', 'x280', 'x281', 'x282', 'x283', 'x284',\n       'x285', 'x286', 'x287', 'x288', 'x289', 'x290', 'x291', 'x292',\n       'x293', 'x294', 'x295', 'x296', 'x297', 'x298', 'x299', 'x300',\n       'x301', 'x302', 'x303', 'x304', 'x305', 'x306', 'x307', 'x308',\n       'x309', 'x310', 'x311', 'x312', 'x313', 'x314', 'x315', 'x316',\n       'x317', 'x318', 'x319', 'x320', 'x321', 'x322', 'x323', 'x324',\n       'x325', 'x326', 'x327', 'x328', 'x329', 'x330', 'x331', 'x332',\n       'x333', 'x334', 'x335', 'x336', 'x337', 'x338', 'x339', 'x340',\n       'x341', 'x342', 'x343', 'x344', 'x345', 'x346', 'x347', 'x348',\n       'x349', 'x350', 'x351', 'x352', 'x353', 'x354', 'x355', 'x356',\n       'x357', 'x358', 'x359', 'x360', 'x361', 'x362', 'x363', 'x364',\n       'x365', 'x366', 'x367', 'x368', 'x369', 'x370', 'x371', 'x372',\n       'x373', 'x374', 'x375', 'x376', 'x377', 'x378', 'x379', 'x380',\n       'x381', 'x382', 'x383', 'x384', 'x385', 'x386', 'x387', 'x388',\n       'x389', 'x390', 'x391', 'x392', 'x393', 'x394', 'x395', 'x396',\n       'x397', 'x398', 'x399', 'x400', 'x401', 'x402', 'x403', 'x404',\n       'x405', 'x406', 'x407', 'x408', 'x409', 'x410', 'x411', 'x412',\n       'x413', 'x414', 'x415', 'x416', 'x417', 'x418', 'x419', 'x420',\n       'x421', 'x422', 'x423', 'x424', 'x425', 'x426', 'x427', 'x428',\n       'x429', 'x430', 'x431', 'x432', 'x433', 'x434', 'x435', 'x436',\n       'x437', 'x438', 'x439', 'x440', 'x441', 'x442', 'x443', 'x444',\n       'x445', 'x446', 'x447', 'x448', 'x449', 'x450', 'x451', 'x452',\n       'x453', 'x454', 'x455', 'x456', 'x457', 'x458', 'x459', 'x460',\n       'x461', 'x462', 'x463', 'x464', 'x465', 'x466', 'x467', 'x468',\n       'x469', 'x470', 'x471', 'x472', 'x473', 'x474', 'x475', 'x476',\n       'x477', 'x478', 'x479', 'x480', 'x481', 'x482', 'x483', 'x484',\n       'x485', 'x486', 'x487', 'x488', 'x489', 'x490', 'x491', 'x492',\n       'x493', 'x494', 'x495', 'x496', 'x497', 'x498', 'x499', 'x500',\n       'x501', 'x502', 'x503', 'x504', 'x505', 'x506', 'x507', 'x508',\n       'x509', 'x510', 'x511', 'x512', 'x513', 'x514', 'x515', 'x516',\n       'x517', 'x518', 'x519', 'x520', 'x521', 'x522', 'x523', 'x524',\n       'x525', 'x526', 'x527', 'x528', 'x529', 'x530', 'x531', 'x532',\n       'x533', 'x534', 'x535', 'x536', 'x537', 'x538', 'x539', 'x540',\n       'x541', 'x542', 'x543', 'x544', 'x545', 'x546', 'x547', 'x548',\n       'x549', 'x550', 'x551', 'x552', 'x553', 'x554', 'x555', 'x556',\n       'x557', 'x558', 'x559', 'x560', 'x561', 'x562', 'x563', 'x564',\n       'x565', 'x566', 'x567', 'x568', 'x569', 'x570', 'x571', 'x572',\n       'x573', 'x574', 'x575', 'x576', 'x577', 'x578', 'x579', 'x580',\n       'x581', 'x582', 'x583', 'x584', 'x585', 'x586', 'x587', 'x588',\n       'x589', 'x590', 'x591', 'x592', 'x593', 'x594', 'x595', 'x596',\n       'x597', 'x598', 'x599', 'x600', 'x601', 'x602', 'x603', 'x604',\n       'x605', 'x606', 'x607', 'x608', 'x609', 'x610', 'x611', 'x612',\n       'x613', 'x614', 'x615', 'x616', 'x617', 'x618', 'x619', 'x620',\n       'x621', 'x622', 'x623', 'x624', 'x625', 'x626', 'x627', 'x628',\n       'x629', 'x630', 'x631', 'x632', 'x633', 'x634', 'x635', 'x636',\n       'x637', 'x638', 'x639', 'x640', 'x641', 'x642', 'x643', 'x644',\n       'x645', 'x646', 'x647', 'x648', 'x649', 'x650', 'x651', 'x652',\n       'x653', 'x654', 'x655', 'x656', 'x657', 'x658', 'x659', 'x660',\n       'x661', 'x662', 'x663', 'x664', 'x665', 'x666', 'x667', 'x668',\n       'x669', 'x670', 'x671', 'x672', 'x673', 'x674', 'x675', 'x676',\n       'x677', 'x678', 'x679', 'x680', 'x681', 'x682', 'x683', 'x684',\n       'x685', 'x686', 'x687', 'x688', 'x689', 'x690', 'x691', 'x692',\n       'x693', 'x694', 'x695', 'x696', 'x697', 'x698', 'x699', 'x700',\n       'x701', 'x702', 'x703', 'x704', 'x705', 'x706', 'x707', 'x708',\n       'x709', 'x710', 'x711', 'x712', 'x713', 'x714', 'x715', 'x716',\n       'x717', 'x718', 'x719', 'x720', 'x721', 'x722', 'x723', 'x724',\n       'x725', 'x726', 'x727', 'x728', 'x729', 'x730', 'x731', 'x732',\n       'x733', 'x734', 'x735', 'x736', 'x737', 'x738', 'x739', 'x740',\n       'x741', 'x742', 'x743', 'x744', 'x745', 'x746', 'x747', 'x748',\n       'x749', 'x750', 'x751', 'x752', 'x753', 'x754', 'x755', 'x756',\n       'x757', 'x758', 'x759', 'x760', 'x761', 'x762', 'x763', 'x764',\n       'x765', 'x766', 'x767', 'x768', 'x769', 'x770', 'x771', 'x772',\n       'x773', 'x774', 'x775', 'x776', 'x777', 'x778', 'x779', 'x780',\n       'x781', 'x782', 'x783'], dtype=object)"
     },
     "execution_count": 52,
     "metadata": {},
     "output_type": "execute_result"
    }
   ],
   "source": [
    "rf_pipe[:-1].get_feature_names_out()"
   ],
   "metadata": {
    "collapsed": false
   }
  },
  {
   "cell_type": "code",
   "execution_count": 57,
   "outputs": [],
   "source": [
    "param_distribs = {\n",
    "    'rf__n_estimators': randint(low=10, high=200),\n",
    "    'rf__max_features': randint(low=1, high=28),\n",
    "    'rf__max_depth': randint(low=1, high=10)\n",
    "}\n",
    "\n",
    "rnd_search = RandomizedSearchCV(rf_pipe, param_distributions=param_distribs,\n",
    "                                n_iter=10, cv=3, scoring='accuracy', random_state=42)"
   ],
   "metadata": {
    "collapsed": false
   }
  },
  {
   "cell_type": "code",
   "execution_count": 59,
   "outputs": [
    {
     "data": {
      "text/plain": "RandomizedSearchCV(cv=3,\n                   estimator=Pipeline(steps=[('scaler', MinMaxScaler()),\n                                             ('rf',\n                                              RandomForestClassifier(n_jobs=4,\n                                                                     random_state=42))]),\n                   param_distributions={'rf__max_depth': <scipy.stats._distn_infrastructure.rv_discrete_frozen object at 0x7fca6e173d00>,\n                                        'rf__max_features': <scipy.stats._distn_infrastructure.rv_discrete_frozen object at 0x7fca6e157f40>,\n                                        'rf__n_estimators': <scipy.stats._distn_infrastructure.rv_discrete_frozen object at 0x7fca6e158040>},\n                   random_state=42, scoring='accuracy')",
      "text/html": "<style>#sk-container-id-5 {color: black;background-color: white;}#sk-container-id-5 pre{padding: 0;}#sk-container-id-5 div.sk-toggleable {background-color: white;}#sk-container-id-5 label.sk-toggleable__label {cursor: pointer;display: block;width: 100%;margin-bottom: 0;padding: 0.3em;box-sizing: border-box;text-align: center;}#sk-container-id-5 label.sk-toggleable__label-arrow:before {content: \"▸\";float: left;margin-right: 0.25em;color: #696969;}#sk-container-id-5 label.sk-toggleable__label-arrow:hover:before {color: black;}#sk-container-id-5 div.sk-estimator:hover label.sk-toggleable__label-arrow:before {color: black;}#sk-container-id-5 div.sk-toggleable__content {max-height: 0;max-width: 0;overflow: hidden;text-align: left;background-color: #f0f8ff;}#sk-container-id-5 div.sk-toggleable__content pre {margin: 0.2em;color: black;border-radius: 0.25em;background-color: #f0f8ff;}#sk-container-id-5 input.sk-toggleable__control:checked~div.sk-toggleable__content {max-height: 200px;max-width: 100%;overflow: auto;}#sk-container-id-5 input.sk-toggleable__control:checked~label.sk-toggleable__label-arrow:before {content: \"▾\";}#sk-container-id-5 div.sk-estimator input.sk-toggleable__control:checked~label.sk-toggleable__label {background-color: #d4ebff;}#sk-container-id-5 div.sk-label input.sk-toggleable__control:checked~label.sk-toggleable__label {background-color: #d4ebff;}#sk-container-id-5 input.sk-hidden--visually {border: 0;clip: rect(1px 1px 1px 1px);clip: rect(1px, 1px, 1px, 1px);height: 1px;margin: -1px;overflow: hidden;padding: 0;position: absolute;width: 1px;}#sk-container-id-5 div.sk-estimator {font-family: monospace;background-color: #f0f8ff;border: 1px dotted black;border-radius: 0.25em;box-sizing: border-box;margin-bottom: 0.5em;}#sk-container-id-5 div.sk-estimator:hover {background-color: #d4ebff;}#sk-container-id-5 div.sk-parallel-item::after {content: \"\";width: 100%;border-bottom: 1px solid gray;flex-grow: 1;}#sk-container-id-5 div.sk-label:hover label.sk-toggleable__label {background-color: #d4ebff;}#sk-container-id-5 div.sk-serial::before {content: \"\";position: absolute;border-left: 1px solid gray;box-sizing: border-box;top: 0;bottom: 0;left: 50%;z-index: 0;}#sk-container-id-5 div.sk-serial {display: flex;flex-direction: column;align-items: center;background-color: white;padding-right: 0.2em;padding-left: 0.2em;position: relative;}#sk-container-id-5 div.sk-item {position: relative;z-index: 1;}#sk-container-id-5 div.sk-parallel {display: flex;align-items: stretch;justify-content: center;background-color: white;position: relative;}#sk-container-id-5 div.sk-item::before, #sk-container-id-5 div.sk-parallel-item::before {content: \"\";position: absolute;border-left: 1px solid gray;box-sizing: border-box;top: 0;bottom: 0;left: 50%;z-index: -1;}#sk-container-id-5 div.sk-parallel-item {display: flex;flex-direction: column;z-index: 1;position: relative;background-color: white;}#sk-container-id-5 div.sk-parallel-item:first-child::after {align-self: flex-end;width: 50%;}#sk-container-id-5 div.sk-parallel-item:last-child::after {align-self: flex-start;width: 50%;}#sk-container-id-5 div.sk-parallel-item:only-child::after {width: 0;}#sk-container-id-5 div.sk-dashed-wrapped {border: 1px dashed gray;margin: 0 0.4em 0.5em 0.4em;box-sizing: border-box;padding-bottom: 0.4em;background-color: white;}#sk-container-id-5 div.sk-label label {font-family: monospace;font-weight: bold;display: inline-block;line-height: 1.2em;}#sk-container-id-5 div.sk-label-container {text-align: center;}#sk-container-id-5 div.sk-container {/* jupyter's `normalize.less` sets `[hidden] { display: none; }` but bootstrap.min.css set `[hidden] { display: none !important; }` so we also need the `!important` here to be able to override the default hidden behavior on the sphinx rendered scikit-learn.org. See: https://github.com/scikit-learn/scikit-learn/issues/21755 */display: inline-block !important;position: relative;}#sk-container-id-5 div.sk-text-repr-fallback {display: none;}</style><div id=\"sk-container-id-5\" class=\"sk-top-container\"><div class=\"sk-text-repr-fallback\"><pre>RandomizedSearchCV(cv=3,\n                   estimator=Pipeline(steps=[(&#x27;scaler&#x27;, MinMaxScaler()),\n                                             (&#x27;rf&#x27;,\n                                              RandomForestClassifier(n_jobs=4,\n                                                                     random_state=42))]),\n                   param_distributions={&#x27;rf__max_depth&#x27;: &lt;scipy.stats._distn_infrastructure.rv_discrete_frozen object at 0x7fca6e173d00&gt;,\n                                        &#x27;rf__max_features&#x27;: &lt;scipy.stats._distn_infrastructure.rv_discrete_frozen object at 0x7fca6e157f40&gt;,\n                                        &#x27;rf__n_estimators&#x27;: &lt;scipy.stats._distn_infrastructure.rv_discrete_frozen object at 0x7fca6e158040&gt;},\n                   random_state=42, scoring=&#x27;accuracy&#x27;)</pre><b>In a Jupyter environment, please rerun this cell to show the HTML representation or trust the notebook. <br />On GitHub, the HTML representation is unable to render, please try loading this page with nbviewer.org.</b></div><div class=\"sk-container\" hidden><div class=\"sk-item sk-dashed-wrapped\"><div class=\"sk-label-container\"><div class=\"sk-label sk-toggleable\"><input class=\"sk-toggleable__control sk-hidden--visually\" id=\"sk-estimator-id-11\" type=\"checkbox\" ><label for=\"sk-estimator-id-11\" class=\"sk-toggleable__label sk-toggleable__label-arrow\">RandomizedSearchCV</label><div class=\"sk-toggleable__content\"><pre>RandomizedSearchCV(cv=3,\n                   estimator=Pipeline(steps=[(&#x27;scaler&#x27;, MinMaxScaler()),\n                                             (&#x27;rf&#x27;,\n                                              RandomForestClassifier(n_jobs=4,\n                                                                     random_state=42))]),\n                   param_distributions={&#x27;rf__max_depth&#x27;: &lt;scipy.stats._distn_infrastructure.rv_discrete_frozen object at 0x7fca6e173d00&gt;,\n                                        &#x27;rf__max_features&#x27;: &lt;scipy.stats._distn_infrastructure.rv_discrete_frozen object at 0x7fca6e157f40&gt;,\n                                        &#x27;rf__n_estimators&#x27;: &lt;scipy.stats._distn_infrastructure.rv_discrete_frozen object at 0x7fca6e158040&gt;},\n                   random_state=42, scoring=&#x27;accuracy&#x27;)</pre></div></div></div><div class=\"sk-parallel\"><div class=\"sk-parallel-item\"><div class=\"sk-item\"><div class=\"sk-label-container\"><div class=\"sk-label sk-toggleable\"><input class=\"sk-toggleable__control sk-hidden--visually\" id=\"sk-estimator-id-12\" type=\"checkbox\" ><label for=\"sk-estimator-id-12\" class=\"sk-toggleable__label sk-toggleable__label-arrow\">estimator: Pipeline</label><div class=\"sk-toggleable__content\"><pre>Pipeline(steps=[(&#x27;scaler&#x27;, MinMaxScaler()),\n                (&#x27;rf&#x27;, RandomForestClassifier(n_jobs=4, random_state=42))])</pre></div></div></div><div class=\"sk-serial\"><div class=\"sk-item\"><div class=\"sk-serial\"><div class=\"sk-item\"><div class=\"sk-estimator sk-toggleable\"><input class=\"sk-toggleable__control sk-hidden--visually\" id=\"sk-estimator-id-13\" type=\"checkbox\" ><label for=\"sk-estimator-id-13\" class=\"sk-toggleable__label sk-toggleable__label-arrow\">MinMaxScaler</label><div class=\"sk-toggleable__content\"><pre>MinMaxScaler()</pre></div></div></div><div class=\"sk-item\"><div class=\"sk-estimator sk-toggleable\"><input class=\"sk-toggleable__control sk-hidden--visually\" id=\"sk-estimator-id-14\" type=\"checkbox\" ><label for=\"sk-estimator-id-14\" class=\"sk-toggleable__label sk-toggleable__label-arrow\">RandomForestClassifier</label><div class=\"sk-toggleable__content\"><pre>RandomForestClassifier(n_jobs=4, random_state=42)</pre></div></div></div></div></div></div></div></div></div></div></div></div>"
     },
     "execution_count": 59,
     "metadata": {},
     "output_type": "execute_result"
    }
   ],
   "source": [
    "rnd_search.fit(dc.X_train, dc.y_train)"
   ],
   "metadata": {
    "collapsed": false
   }
  },
  {
   "cell_type": "code",
   "execution_count": 60,
   "outputs": [
    {
     "data": {
      "text/plain": "{'rf__max_depth': 8, 'rf__max_features': 12, 'rf__n_estimators': 167}"
     },
     "execution_count": 60,
     "metadata": {},
     "output_type": "execute_result"
    }
   ],
   "source": [
    "rnd_search.best_params_"
   ],
   "metadata": {
    "collapsed": false
   }
  },
  {
   "cell_type": "code",
   "execution_count": 62,
   "outputs": [
    {
     "data": {
      "text/plain": "{'mean_fit_time': array([4.61755888, 5.57678564, 2.34960985, 5.69693446, 7.72029209,\n        1.00773517, 5.3193206 , 1.91551892, 1.00224916, 2.87133845]),\n 'std_fit_time': array([0.23148658, 0.07017355, 0.05441925, 0.06383741, 0.11894803,\n        0.00414528, 0.00189012, 0.01254095, 0.00657324, 0.01320327]),\n 'mean_score_time': array([0.49548864, 0.55035734, 0.39745116, 0.54559008, 0.67631221,\n        0.1589574 , 0.77958655, 0.85771275, 0.35280736, 0.51424615]),\n 'std_score_time': array([0.00680365, 0.00771001, 0.02562405, 0.00949737, 0.00520516,\n        0.00163704, 0.01626487, 0.02798901, 0.00441384, 0.01101841]),\n 'param_rf__max_depth': masked_array(data=[7, 8, 3, 8, 8, 6, 8, 6, 5, 6],\n              mask=[False, False, False, False, False, False, False, False,\n                    False, False],\n        fill_value='?',\n             dtype=object),\n 'param_rf__max_features': masked_array(data=[20, 21, 23, 21, 24, 21, 12, 2, 1, 12],\n              mask=[False, False, False, False, False, False, False, False,\n                    False, False],\n        fill_value='?',\n             dtype=object),\n 'param_rf__n_estimators': masked_array(data=[102, 112, 84, 109, 140, 11, 167, 197, 67, 98],\n              mask=[False, False, False, False, False, False, False, False,\n                    False, False],\n        fill_value='?',\n             dtype=object),\n 'params': [{'rf__max_depth': 7,\n   'rf__max_features': 20,\n   'rf__n_estimators': 102},\n  {'rf__max_depth': 8, 'rf__max_features': 21, 'rf__n_estimators': 112},\n  {'rf__max_depth': 3, 'rf__max_features': 23, 'rf__n_estimators': 84},\n  {'rf__max_depth': 8, 'rf__max_features': 21, 'rf__n_estimators': 109},\n  {'rf__max_depth': 8, 'rf__max_features': 24, 'rf__n_estimators': 140},\n  {'rf__max_depth': 6, 'rf__max_features': 21, 'rf__n_estimators': 11},\n  {'rf__max_depth': 8, 'rf__max_features': 12, 'rf__n_estimators': 167},\n  {'rf__max_depth': 6, 'rf__max_features': 2, 'rf__n_estimators': 197},\n  {'rf__max_depth': 5, 'rf__max_features': 1, 'rf__n_estimators': 67},\n  {'rf__max_depth': 6, 'rf__max_features': 12, 'rf__n_estimators': 98}],\n 'split0_test_score': array([0.61654255, 0.65526596, 0.3718883 , 0.65473404, 0.65792553,\n        0.50295213, 0.65930851, 0.58428191, 0.52167553, 0.57667553]),\n 'split1_test_score': array([0.61848404, 0.66055851, 0.36890957, 0.66018617, 0.66154255,\n        0.50611702, 0.66292553, 0.58718085, 0.52053191, 0.57757979]),\n 'split2_test_score': array([0.6206383 , 0.66183511, 0.37670213, 0.66183511, 0.66170213,\n        0.50821809, 0.66367021, 0.58917553, 0.52095745, 0.5806117 ]),\n 'mean_test_score': array([0.61855496, 0.65921986, 0.3725    , 0.65891844, 0.66039007,\n        0.50576241, 0.66196809, 0.58687943, 0.52105496, 0.57828901]),\n 'std_test_score': array([0.00167283, 0.00284399, 0.00321057, 0.00303443, 0.00174391,\n        0.00216439, 0.00190502, 0.00200915, 0.00047194, 0.00168337]),\n 'rank_test_score': array([ 5,  3, 10,  4,  2,  9,  1,  6,  8,  7], dtype=int32)}"
     },
     "execution_count": 62,
     "metadata": {},
     "output_type": "execute_result"
    }
   ],
   "source": [
    "rnd_search.cv_results_"
   ],
   "metadata": {
    "collapsed": false
   }
  },
  {
   "cell_type": "code",
   "execution_count": 63,
   "outputs": [
    {
     "data": {
      "text/plain": "0.661968085106383"
     },
     "execution_count": 63,
     "metadata": {},
     "output_type": "execute_result"
    }
   ],
   "source": [
    "rnd_search.best_score_"
   ],
   "metadata": {
    "collapsed": false
   }
  },
  {
   "cell_type": "code",
   "execution_count": 64,
   "outputs": [],
   "source": [
    "score_cols = [\"split0\", \"split1\", \"split2\", \"mean_score\"]"
   ],
   "metadata": {
    "collapsed": false
   }
  },
  {
   "cell_type": "code",
   "execution_count": 69,
   "outputs": [
    {
     "data": {
      "text/plain": "  n_estimators max_features max_depth    split0    split1    split2  \\\n6          167           12         8  0.659309  0.662926  0.663670   \n4          140           24         8  0.657926  0.661543  0.661702   \n1          112           21         8  0.655266  0.660559  0.661835   \n3          109           21         8  0.654734  0.660186  0.661835   \n0          102           20         7  0.616543  0.618484  0.620638   \n7          197            2         6  0.584282  0.587181  0.589176   \n9           98           12         6  0.576676  0.577580  0.580612   \n8           67            1         5  0.521676  0.520532  0.520957   \n5           11           21         6  0.502952  0.506117  0.508218   \n2           84           23         3  0.371888  0.368910  0.376702   \n\n   mean_score  \n6    0.661968  \n4    0.660390  \n1    0.659220  \n3    0.658918  \n0    0.618555  \n7    0.586879  \n9    0.578289  \n8    0.521055  \n5    0.505762  \n2    0.372500  ",
      "text/html": "<div>\n<style scoped>\n    .dataframe tbody tr th:only-of-type {\n        vertical-align: middle;\n    }\n\n    .dataframe tbody tr th {\n        vertical-align: top;\n    }\n\n    .dataframe thead th {\n        text-align: right;\n    }\n</style>\n<table border=\"1\" class=\"dataframe\">\n  <thead>\n    <tr style=\"text-align: right;\">\n      <th></th>\n      <th>n_estimators</th>\n      <th>max_features</th>\n      <th>max_depth</th>\n      <th>split0</th>\n      <th>split1</th>\n      <th>split2</th>\n      <th>mean_score</th>\n    </tr>\n  </thead>\n  <tbody>\n    <tr>\n      <th>6</th>\n      <td>167</td>\n      <td>12</td>\n      <td>8</td>\n      <td>0.659309</td>\n      <td>0.662926</td>\n      <td>0.663670</td>\n      <td>0.661968</td>\n    </tr>\n    <tr>\n      <th>4</th>\n      <td>140</td>\n      <td>24</td>\n      <td>8</td>\n      <td>0.657926</td>\n      <td>0.661543</td>\n      <td>0.661702</td>\n      <td>0.660390</td>\n    </tr>\n    <tr>\n      <th>1</th>\n      <td>112</td>\n      <td>21</td>\n      <td>8</td>\n      <td>0.655266</td>\n      <td>0.660559</td>\n      <td>0.661835</td>\n      <td>0.659220</td>\n    </tr>\n    <tr>\n      <th>3</th>\n      <td>109</td>\n      <td>21</td>\n      <td>8</td>\n      <td>0.654734</td>\n      <td>0.660186</td>\n      <td>0.661835</td>\n      <td>0.658918</td>\n    </tr>\n    <tr>\n      <th>0</th>\n      <td>102</td>\n      <td>20</td>\n      <td>7</td>\n      <td>0.616543</td>\n      <td>0.618484</td>\n      <td>0.620638</td>\n      <td>0.618555</td>\n    </tr>\n    <tr>\n      <th>7</th>\n      <td>197</td>\n      <td>2</td>\n      <td>6</td>\n      <td>0.584282</td>\n      <td>0.587181</td>\n      <td>0.589176</td>\n      <td>0.586879</td>\n    </tr>\n    <tr>\n      <th>9</th>\n      <td>98</td>\n      <td>12</td>\n      <td>6</td>\n      <td>0.576676</td>\n      <td>0.577580</td>\n      <td>0.580612</td>\n      <td>0.578289</td>\n    </tr>\n    <tr>\n      <th>8</th>\n      <td>67</td>\n      <td>1</td>\n      <td>5</td>\n      <td>0.521676</td>\n      <td>0.520532</td>\n      <td>0.520957</td>\n      <td>0.521055</td>\n    </tr>\n    <tr>\n      <th>5</th>\n      <td>11</td>\n      <td>21</td>\n      <td>6</td>\n      <td>0.502952</td>\n      <td>0.506117</td>\n      <td>0.508218</td>\n      <td>0.505762</td>\n    </tr>\n    <tr>\n      <th>2</th>\n      <td>84</td>\n      <td>23</td>\n      <td>3</td>\n      <td>0.371888</td>\n      <td>0.368910</td>\n      <td>0.376702</td>\n      <td>0.372500</td>\n    </tr>\n  </tbody>\n</table>\n</div>"
     },
     "execution_count": 69,
     "metadata": {},
     "output_type": "execute_result"
    }
   ],
   "source": [
    "cv_res = pd.DataFrame(rnd_search.cv_results_)\n",
    "cv_res.sort_values(by=\"mean_test_score\", ascending=False, inplace=True)\n",
    "cv_res = cv_res[[\"param_rf__n_estimators\", \"param_rf__max_features\",\n",
    "                 \"param_rf__max_depth\", \"split0_test_score\",\n",
    "                 \"split1_test_score\", \"split2_test_score\", \"mean_test_score\"]]\n",
    "cv_res.columns = [\"n_estimators\", \"max_features\", \"max_depth\"] + score_cols\n",
    "cv_res"
   ],
   "metadata": {
    "collapsed": false
   }
  },
  {
   "cell_type": "code",
   "execution_count": 70,
   "outputs": [],
   "source": [
    "param_distribs = {\n",
    "    'rf__n_estimators': randint(low=150, high=250),\n",
    "    'rf__max_features': randint(low=8, high=16),\n",
    "    'rf__max_depth': randint(low=6, high=12)\n",
    "}\n",
    "\n",
    "rnd_search = RandomizedSearchCV(rf_pipe, param_distributions=param_distribs,\n",
    "                                n_iter=10, cv=3, scoring='accuracy', random_state=42)"
   ],
   "metadata": {
    "collapsed": false
   }
  },
  {
   "cell_type": "code",
   "execution_count": 71,
   "outputs": [
    {
     "data": {
      "text/plain": "RandomizedSearchCV(cv=3,\n                   estimator=Pipeline(steps=[('scaler', MinMaxScaler()),\n                                             ('rf',\n                                              RandomForestClassifier(n_jobs=4,\n                                                                     random_state=42))]),\n                   param_distributions={'rf__max_depth': <scipy.stats._distn_infrastructure.rv_discrete_frozen object at 0x7fca407c64a0>,\n                                        'rf__max_features': <scipy.stats._distn_infrastructure.rv_discrete_frozen object at 0x7fca407f3580>,\n                                        'rf__n_estimators': <scipy.stats._distn_infrastructure.rv_discrete_frozen object at 0x7fca407f3730>},\n                   random_state=42, scoring='accuracy')",
      "text/html": "<style>#sk-container-id-6 {color: black;background-color: white;}#sk-container-id-6 pre{padding: 0;}#sk-container-id-6 div.sk-toggleable {background-color: white;}#sk-container-id-6 label.sk-toggleable__label {cursor: pointer;display: block;width: 100%;margin-bottom: 0;padding: 0.3em;box-sizing: border-box;text-align: center;}#sk-container-id-6 label.sk-toggleable__label-arrow:before {content: \"▸\";float: left;margin-right: 0.25em;color: #696969;}#sk-container-id-6 label.sk-toggleable__label-arrow:hover:before {color: black;}#sk-container-id-6 div.sk-estimator:hover label.sk-toggleable__label-arrow:before {color: black;}#sk-container-id-6 div.sk-toggleable__content {max-height: 0;max-width: 0;overflow: hidden;text-align: left;background-color: #f0f8ff;}#sk-container-id-6 div.sk-toggleable__content pre {margin: 0.2em;color: black;border-radius: 0.25em;background-color: #f0f8ff;}#sk-container-id-6 input.sk-toggleable__control:checked~div.sk-toggleable__content {max-height: 200px;max-width: 100%;overflow: auto;}#sk-container-id-6 input.sk-toggleable__control:checked~label.sk-toggleable__label-arrow:before {content: \"▾\";}#sk-container-id-6 div.sk-estimator input.sk-toggleable__control:checked~label.sk-toggleable__label {background-color: #d4ebff;}#sk-container-id-6 div.sk-label input.sk-toggleable__control:checked~label.sk-toggleable__label {background-color: #d4ebff;}#sk-container-id-6 input.sk-hidden--visually {border: 0;clip: rect(1px 1px 1px 1px);clip: rect(1px, 1px, 1px, 1px);height: 1px;margin: -1px;overflow: hidden;padding: 0;position: absolute;width: 1px;}#sk-container-id-6 div.sk-estimator {font-family: monospace;background-color: #f0f8ff;border: 1px dotted black;border-radius: 0.25em;box-sizing: border-box;margin-bottom: 0.5em;}#sk-container-id-6 div.sk-estimator:hover {background-color: #d4ebff;}#sk-container-id-6 div.sk-parallel-item::after {content: \"\";width: 100%;border-bottom: 1px solid gray;flex-grow: 1;}#sk-container-id-6 div.sk-label:hover label.sk-toggleable__label {background-color: #d4ebff;}#sk-container-id-6 div.sk-serial::before {content: \"\";position: absolute;border-left: 1px solid gray;box-sizing: border-box;top: 0;bottom: 0;left: 50%;z-index: 0;}#sk-container-id-6 div.sk-serial {display: flex;flex-direction: column;align-items: center;background-color: white;padding-right: 0.2em;padding-left: 0.2em;position: relative;}#sk-container-id-6 div.sk-item {position: relative;z-index: 1;}#sk-container-id-6 div.sk-parallel {display: flex;align-items: stretch;justify-content: center;background-color: white;position: relative;}#sk-container-id-6 div.sk-item::before, #sk-container-id-6 div.sk-parallel-item::before {content: \"\";position: absolute;border-left: 1px solid gray;box-sizing: border-box;top: 0;bottom: 0;left: 50%;z-index: -1;}#sk-container-id-6 div.sk-parallel-item {display: flex;flex-direction: column;z-index: 1;position: relative;background-color: white;}#sk-container-id-6 div.sk-parallel-item:first-child::after {align-self: flex-end;width: 50%;}#sk-container-id-6 div.sk-parallel-item:last-child::after {align-self: flex-start;width: 50%;}#sk-container-id-6 div.sk-parallel-item:only-child::after {width: 0;}#sk-container-id-6 div.sk-dashed-wrapped {border: 1px dashed gray;margin: 0 0.4em 0.5em 0.4em;box-sizing: border-box;padding-bottom: 0.4em;background-color: white;}#sk-container-id-6 div.sk-label label {font-family: monospace;font-weight: bold;display: inline-block;line-height: 1.2em;}#sk-container-id-6 div.sk-label-container {text-align: center;}#sk-container-id-6 div.sk-container {/* jupyter's `normalize.less` sets `[hidden] { display: none; }` but bootstrap.min.css set `[hidden] { display: none !important; }` so we also need the `!important` here to be able to override the default hidden behavior on the sphinx rendered scikit-learn.org. See: https://github.com/scikit-learn/scikit-learn/issues/21755 */display: inline-block !important;position: relative;}#sk-container-id-6 div.sk-text-repr-fallback {display: none;}</style><div id=\"sk-container-id-6\" class=\"sk-top-container\"><div class=\"sk-text-repr-fallback\"><pre>RandomizedSearchCV(cv=3,\n                   estimator=Pipeline(steps=[(&#x27;scaler&#x27;, MinMaxScaler()),\n                                             (&#x27;rf&#x27;,\n                                              RandomForestClassifier(n_jobs=4,\n                                                                     random_state=42))]),\n                   param_distributions={&#x27;rf__max_depth&#x27;: &lt;scipy.stats._distn_infrastructure.rv_discrete_frozen object at 0x7fca407c64a0&gt;,\n                                        &#x27;rf__max_features&#x27;: &lt;scipy.stats._distn_infrastructure.rv_discrete_frozen object at 0x7fca407f3580&gt;,\n                                        &#x27;rf__n_estimators&#x27;: &lt;scipy.stats._distn_infrastructure.rv_discrete_frozen object at 0x7fca407f3730&gt;},\n                   random_state=42, scoring=&#x27;accuracy&#x27;)</pre><b>In a Jupyter environment, please rerun this cell to show the HTML representation or trust the notebook. <br />On GitHub, the HTML representation is unable to render, please try loading this page with nbviewer.org.</b></div><div class=\"sk-container\" hidden><div class=\"sk-item sk-dashed-wrapped\"><div class=\"sk-label-container\"><div class=\"sk-label sk-toggleable\"><input class=\"sk-toggleable__control sk-hidden--visually\" id=\"sk-estimator-id-15\" type=\"checkbox\" ><label for=\"sk-estimator-id-15\" class=\"sk-toggleable__label sk-toggleable__label-arrow\">RandomizedSearchCV</label><div class=\"sk-toggleable__content\"><pre>RandomizedSearchCV(cv=3,\n                   estimator=Pipeline(steps=[(&#x27;scaler&#x27;, MinMaxScaler()),\n                                             (&#x27;rf&#x27;,\n                                              RandomForestClassifier(n_jobs=4,\n                                                                     random_state=42))]),\n                   param_distributions={&#x27;rf__max_depth&#x27;: &lt;scipy.stats._distn_infrastructure.rv_discrete_frozen object at 0x7fca407c64a0&gt;,\n                                        &#x27;rf__max_features&#x27;: &lt;scipy.stats._distn_infrastructure.rv_discrete_frozen object at 0x7fca407f3580&gt;,\n                                        &#x27;rf__n_estimators&#x27;: &lt;scipy.stats._distn_infrastructure.rv_discrete_frozen object at 0x7fca407f3730&gt;},\n                   random_state=42, scoring=&#x27;accuracy&#x27;)</pre></div></div></div><div class=\"sk-parallel\"><div class=\"sk-parallel-item\"><div class=\"sk-item\"><div class=\"sk-label-container\"><div class=\"sk-label sk-toggleable\"><input class=\"sk-toggleable__control sk-hidden--visually\" id=\"sk-estimator-id-16\" type=\"checkbox\" ><label for=\"sk-estimator-id-16\" class=\"sk-toggleable__label sk-toggleable__label-arrow\">estimator: Pipeline</label><div class=\"sk-toggleable__content\"><pre>Pipeline(steps=[(&#x27;scaler&#x27;, MinMaxScaler()),\n                (&#x27;rf&#x27;, RandomForestClassifier(n_jobs=4, random_state=42))])</pre></div></div></div><div class=\"sk-serial\"><div class=\"sk-item\"><div class=\"sk-serial\"><div class=\"sk-item\"><div class=\"sk-estimator sk-toggleable\"><input class=\"sk-toggleable__control sk-hidden--visually\" id=\"sk-estimator-id-17\" type=\"checkbox\" ><label for=\"sk-estimator-id-17\" class=\"sk-toggleable__label sk-toggleable__label-arrow\">MinMaxScaler</label><div class=\"sk-toggleable__content\"><pre>MinMaxScaler()</pre></div></div></div><div class=\"sk-item\"><div class=\"sk-estimator sk-toggleable\"><input class=\"sk-toggleable__control sk-hidden--visually\" id=\"sk-estimator-id-18\" type=\"checkbox\" ><label for=\"sk-estimator-id-18\" class=\"sk-toggleable__label sk-toggleable__label-arrow\">RandomForestClassifier</label><div class=\"sk-toggleable__content\"><pre>RandomForestClassifier(n_jobs=4, random_state=42)</pre></div></div></div></div></div></div></div></div></div></div></div></div>"
     },
     "execution_count": 71,
     "metadata": {},
     "output_type": "execute_result"
    }
   ],
   "source": [
    "rnd_search.fit(dc.X_train, dc.y_train)"
   ],
   "metadata": {
    "collapsed": false
   }
  },
  {
   "cell_type": "code",
   "execution_count": 72,
   "outputs": [
    {
     "data": {
      "text/plain": "  n_estimators max_features max_depth    split0    split1    split2  \\\n7          213            9        11  0.740186  0.740904  0.740718   \n2          232           14        10  0.721569  0.723191  0.724388   \n4          173           11        10  0.717926  0.720904  0.721436   \n8          182           12         9  0.691649  0.695931  0.692686   \n0          164           12         9  0.691436  0.694840  0.691968   \n9          171            9         9  0.688511  0.691436  0.693670   \n3          237           10         8  0.658856  0.664016  0.665585   \n5          202           13         8  0.659282  0.662979  0.663298   \n1          210           15         8  0.657899  0.663032  0.664548   \n6          179           15         7  0.619309  0.619229  0.624601   \n\n   mean_score  \n7    0.740603  \n2    0.723050  \n4    0.720089  \n8    0.693422  \n0    0.692748  \n9    0.691206  \n3    0.662819  \n5    0.661853  \n1    0.661826  \n6    0.621046  ",
      "text/html": "<div>\n<style scoped>\n    .dataframe tbody tr th:only-of-type {\n        vertical-align: middle;\n    }\n\n    .dataframe tbody tr th {\n        vertical-align: top;\n    }\n\n    .dataframe thead th {\n        text-align: right;\n    }\n</style>\n<table border=\"1\" class=\"dataframe\">\n  <thead>\n    <tr style=\"text-align: right;\">\n      <th></th>\n      <th>n_estimators</th>\n      <th>max_features</th>\n      <th>max_depth</th>\n      <th>split0</th>\n      <th>split1</th>\n      <th>split2</th>\n      <th>mean_score</th>\n    </tr>\n  </thead>\n  <tbody>\n    <tr>\n      <th>7</th>\n      <td>213</td>\n      <td>9</td>\n      <td>11</td>\n      <td>0.740186</td>\n      <td>0.740904</td>\n      <td>0.740718</td>\n      <td>0.740603</td>\n    </tr>\n    <tr>\n      <th>2</th>\n      <td>232</td>\n      <td>14</td>\n      <td>10</td>\n      <td>0.721569</td>\n      <td>0.723191</td>\n      <td>0.724388</td>\n      <td>0.723050</td>\n    </tr>\n    <tr>\n      <th>4</th>\n      <td>173</td>\n      <td>11</td>\n      <td>10</td>\n      <td>0.717926</td>\n      <td>0.720904</td>\n      <td>0.721436</td>\n      <td>0.720089</td>\n    </tr>\n    <tr>\n      <th>8</th>\n      <td>182</td>\n      <td>12</td>\n      <td>9</td>\n      <td>0.691649</td>\n      <td>0.695931</td>\n      <td>0.692686</td>\n      <td>0.693422</td>\n    </tr>\n    <tr>\n      <th>0</th>\n      <td>164</td>\n      <td>12</td>\n      <td>9</td>\n      <td>0.691436</td>\n      <td>0.694840</td>\n      <td>0.691968</td>\n      <td>0.692748</td>\n    </tr>\n    <tr>\n      <th>9</th>\n      <td>171</td>\n      <td>9</td>\n      <td>9</td>\n      <td>0.688511</td>\n      <td>0.691436</td>\n      <td>0.693670</td>\n      <td>0.691206</td>\n    </tr>\n    <tr>\n      <th>3</th>\n      <td>237</td>\n      <td>10</td>\n      <td>8</td>\n      <td>0.658856</td>\n      <td>0.664016</td>\n      <td>0.665585</td>\n      <td>0.662819</td>\n    </tr>\n    <tr>\n      <th>5</th>\n      <td>202</td>\n      <td>13</td>\n      <td>8</td>\n      <td>0.659282</td>\n      <td>0.662979</td>\n      <td>0.663298</td>\n      <td>0.661853</td>\n    </tr>\n    <tr>\n      <th>1</th>\n      <td>210</td>\n      <td>15</td>\n      <td>8</td>\n      <td>0.657899</td>\n      <td>0.663032</td>\n      <td>0.664548</td>\n      <td>0.661826</td>\n    </tr>\n    <tr>\n      <th>6</th>\n      <td>179</td>\n      <td>15</td>\n      <td>7</td>\n      <td>0.619309</td>\n      <td>0.619229</td>\n      <td>0.624601</td>\n      <td>0.621046</td>\n    </tr>\n  </tbody>\n</table>\n</div>"
     },
     "execution_count": 72,
     "metadata": {},
     "output_type": "execute_result"
    }
   ],
   "source": [
    "cv_res = pd.DataFrame(rnd_search.cv_results_)\n",
    "cv_res.sort_values(by=\"mean_test_score\", ascending=False, inplace=True)\n",
    "cv_res = cv_res[[\"param_rf__n_estimators\", \"param_rf__max_features\",\n",
    "                 \"param_rf__max_depth\", \"split0_test_score\",\n",
    "                 \"split1_test_score\", \"split2_test_score\", \"mean_test_score\"]]\n",
    "cv_res.columns = [\"n_estimators\", \"max_features\", \"max_depth\"] + score_cols\n",
    "cv_res"
   ],
   "metadata": {
    "collapsed": false
   }
  },
  {
   "cell_type": "code",
   "execution_count": 73,
   "outputs": [],
   "source": [
    "param_grid = {\n",
    "    'rf__n_estimators': [200, 220, 240],\n",
    "    'rf__max_features': [8, 12],\n",
    "    'rf__max_depth': [10, 15, 20]\n",
    "}\n",
    "\n",
    "grid_search = GridSearchCV(rf_pipe, param_grid=param_grid,\n",
    "                           cv=3, scoring='accuracy', return_train_score=True)"
   ],
   "metadata": {
    "collapsed": false
   }
  },
  {
   "cell_type": "code",
   "execution_count": 74,
   "outputs": [
    {
     "data": {
      "text/plain": "GridSearchCV(cv=3,\n             estimator=Pipeline(steps=[('scaler', MinMaxScaler()),\n                                       ('rf',\n                                        RandomForestClassifier(n_jobs=4,\n                                                               random_state=42))]),\n             param_grid={'rf__max_depth': [10, 15, 20],\n                         'rf__max_features': [8, 12],\n                         'rf__n_estimators': [200, 220, 240]},\n             return_train_score=True, scoring='accuracy')",
      "text/html": "<style>#sk-container-id-7 {color: black;background-color: white;}#sk-container-id-7 pre{padding: 0;}#sk-container-id-7 div.sk-toggleable {background-color: white;}#sk-container-id-7 label.sk-toggleable__label {cursor: pointer;display: block;width: 100%;margin-bottom: 0;padding: 0.3em;box-sizing: border-box;text-align: center;}#sk-container-id-7 label.sk-toggleable__label-arrow:before {content: \"▸\";float: left;margin-right: 0.25em;color: #696969;}#sk-container-id-7 label.sk-toggleable__label-arrow:hover:before {color: black;}#sk-container-id-7 div.sk-estimator:hover label.sk-toggleable__label-arrow:before {color: black;}#sk-container-id-7 div.sk-toggleable__content {max-height: 0;max-width: 0;overflow: hidden;text-align: left;background-color: #f0f8ff;}#sk-container-id-7 div.sk-toggleable__content pre {margin: 0.2em;color: black;border-radius: 0.25em;background-color: #f0f8ff;}#sk-container-id-7 input.sk-toggleable__control:checked~div.sk-toggleable__content {max-height: 200px;max-width: 100%;overflow: auto;}#sk-container-id-7 input.sk-toggleable__control:checked~label.sk-toggleable__label-arrow:before {content: \"▾\";}#sk-container-id-7 div.sk-estimator input.sk-toggleable__control:checked~label.sk-toggleable__label {background-color: #d4ebff;}#sk-container-id-7 div.sk-label input.sk-toggleable__control:checked~label.sk-toggleable__label {background-color: #d4ebff;}#sk-container-id-7 input.sk-hidden--visually {border: 0;clip: rect(1px 1px 1px 1px);clip: rect(1px, 1px, 1px, 1px);height: 1px;margin: -1px;overflow: hidden;padding: 0;position: absolute;width: 1px;}#sk-container-id-7 div.sk-estimator {font-family: monospace;background-color: #f0f8ff;border: 1px dotted black;border-radius: 0.25em;box-sizing: border-box;margin-bottom: 0.5em;}#sk-container-id-7 div.sk-estimator:hover {background-color: #d4ebff;}#sk-container-id-7 div.sk-parallel-item::after {content: \"\";width: 100%;border-bottom: 1px solid gray;flex-grow: 1;}#sk-container-id-7 div.sk-label:hover label.sk-toggleable__label {background-color: #d4ebff;}#sk-container-id-7 div.sk-serial::before {content: \"\";position: absolute;border-left: 1px solid gray;box-sizing: border-box;top: 0;bottom: 0;left: 50%;z-index: 0;}#sk-container-id-7 div.sk-serial {display: flex;flex-direction: column;align-items: center;background-color: white;padding-right: 0.2em;padding-left: 0.2em;position: relative;}#sk-container-id-7 div.sk-item {position: relative;z-index: 1;}#sk-container-id-7 div.sk-parallel {display: flex;align-items: stretch;justify-content: center;background-color: white;position: relative;}#sk-container-id-7 div.sk-item::before, #sk-container-id-7 div.sk-parallel-item::before {content: \"\";position: absolute;border-left: 1px solid gray;box-sizing: border-box;top: 0;bottom: 0;left: 50%;z-index: -1;}#sk-container-id-7 div.sk-parallel-item {display: flex;flex-direction: column;z-index: 1;position: relative;background-color: white;}#sk-container-id-7 div.sk-parallel-item:first-child::after {align-self: flex-end;width: 50%;}#sk-container-id-7 div.sk-parallel-item:last-child::after {align-self: flex-start;width: 50%;}#sk-container-id-7 div.sk-parallel-item:only-child::after {width: 0;}#sk-container-id-7 div.sk-dashed-wrapped {border: 1px dashed gray;margin: 0 0.4em 0.5em 0.4em;box-sizing: border-box;padding-bottom: 0.4em;background-color: white;}#sk-container-id-7 div.sk-label label {font-family: monospace;font-weight: bold;display: inline-block;line-height: 1.2em;}#sk-container-id-7 div.sk-label-container {text-align: center;}#sk-container-id-7 div.sk-container {/* jupyter's `normalize.less` sets `[hidden] { display: none; }` but bootstrap.min.css set `[hidden] { display: none !important; }` so we also need the `!important` here to be able to override the default hidden behavior on the sphinx rendered scikit-learn.org. See: https://github.com/scikit-learn/scikit-learn/issues/21755 */display: inline-block !important;position: relative;}#sk-container-id-7 div.sk-text-repr-fallback {display: none;}</style><div id=\"sk-container-id-7\" class=\"sk-top-container\"><div class=\"sk-text-repr-fallback\"><pre>GridSearchCV(cv=3,\n             estimator=Pipeline(steps=[(&#x27;scaler&#x27;, MinMaxScaler()),\n                                       (&#x27;rf&#x27;,\n                                        RandomForestClassifier(n_jobs=4,\n                                                               random_state=42))]),\n             param_grid={&#x27;rf__max_depth&#x27;: [10, 15, 20],\n                         &#x27;rf__max_features&#x27;: [8, 12],\n                         &#x27;rf__n_estimators&#x27;: [200, 220, 240]},\n             return_train_score=True, scoring=&#x27;accuracy&#x27;)</pre><b>In a Jupyter environment, please rerun this cell to show the HTML representation or trust the notebook. <br />On GitHub, the HTML representation is unable to render, please try loading this page with nbviewer.org.</b></div><div class=\"sk-container\" hidden><div class=\"sk-item sk-dashed-wrapped\"><div class=\"sk-label-container\"><div class=\"sk-label sk-toggleable\"><input class=\"sk-toggleable__control sk-hidden--visually\" id=\"sk-estimator-id-19\" type=\"checkbox\" ><label for=\"sk-estimator-id-19\" class=\"sk-toggleable__label sk-toggleable__label-arrow\">GridSearchCV</label><div class=\"sk-toggleable__content\"><pre>GridSearchCV(cv=3,\n             estimator=Pipeline(steps=[(&#x27;scaler&#x27;, MinMaxScaler()),\n                                       (&#x27;rf&#x27;,\n                                        RandomForestClassifier(n_jobs=4,\n                                                               random_state=42))]),\n             param_grid={&#x27;rf__max_depth&#x27;: [10, 15, 20],\n                         &#x27;rf__max_features&#x27;: [8, 12],\n                         &#x27;rf__n_estimators&#x27;: [200, 220, 240]},\n             return_train_score=True, scoring=&#x27;accuracy&#x27;)</pre></div></div></div><div class=\"sk-parallel\"><div class=\"sk-parallel-item\"><div class=\"sk-item\"><div class=\"sk-label-container\"><div class=\"sk-label sk-toggleable\"><input class=\"sk-toggleable__control sk-hidden--visually\" id=\"sk-estimator-id-20\" type=\"checkbox\" ><label for=\"sk-estimator-id-20\" class=\"sk-toggleable__label sk-toggleable__label-arrow\">estimator: Pipeline</label><div class=\"sk-toggleable__content\"><pre>Pipeline(steps=[(&#x27;scaler&#x27;, MinMaxScaler()),\n                (&#x27;rf&#x27;, RandomForestClassifier(n_jobs=4, random_state=42))])</pre></div></div></div><div class=\"sk-serial\"><div class=\"sk-item\"><div class=\"sk-serial\"><div class=\"sk-item\"><div class=\"sk-estimator sk-toggleable\"><input class=\"sk-toggleable__control sk-hidden--visually\" id=\"sk-estimator-id-21\" type=\"checkbox\" ><label for=\"sk-estimator-id-21\" class=\"sk-toggleable__label sk-toggleable__label-arrow\">MinMaxScaler</label><div class=\"sk-toggleable__content\"><pre>MinMaxScaler()</pre></div></div></div><div class=\"sk-item\"><div class=\"sk-estimator sk-toggleable\"><input class=\"sk-toggleable__control sk-hidden--visually\" id=\"sk-estimator-id-22\" type=\"checkbox\" ><label for=\"sk-estimator-id-22\" class=\"sk-toggleable__label sk-toggleable__label-arrow\">RandomForestClassifier</label><div class=\"sk-toggleable__content\"><pre>RandomForestClassifier(n_jobs=4, random_state=42)</pre></div></div></div></div></div></div></div></div></div></div></div></div>"
     },
     "execution_count": 74,
     "metadata": {},
     "output_type": "execute_result"
    }
   ],
   "source": [
    "grid_search.fit(dc.X_train, dc.y_train)"
   ],
   "metadata": {
    "collapsed": false
   }
  },
  {
   "cell_type": "code",
   "execution_count": 75,
   "outputs": [
    {
     "data": {
      "text/plain": "    mean_fit_time  std_fit_time  mean_score_time  std_score_time  \\\n0        5.818900      0.223031         0.959079        0.011069   \n1        6.051052      0.018685         1.043403        0.010360   \n2        6.749746      0.110672         1.149856        0.035325   \n3        7.660205      0.084818         0.949422        0.004279   \n4        8.320156      0.176406         1.030707        0.008696   \n5        9.254023      0.281810         1.121901        0.008366   \n6        9.120827      0.120528         1.216845        0.077755   \n7       10.254289      0.280434         1.405691        0.086486   \n8       10.869624      0.208776         1.386781        0.012956   \n9       11.636990      0.091744         1.160446        0.009721   \n10      12.979613      0.295949         1.336697        0.102146   \n11      13.894480      0.069352         1.427748        0.040786   \n12      10.961063      0.116420         1.251206        0.027412   \n13      11.957475      0.139272         1.388687        0.050858   \n14      13.226476      0.294855         1.537126        0.078528   \n15      13.216032      0.020010         1.222403        0.009545   \n16      15.073571      0.283457         1.362641        0.042916   \n17      15.985045      0.097209         1.452956        0.003944   \n\n   param_rf__max_depth param_rf__max_features param_rf__n_estimators  \\\n0                   10                      8                    200   \n1                   10                      8                    220   \n2                   10                      8                    240   \n3                   10                     12                    200   \n4                   10                     12                    220   \n5                   10                     12                    240   \n6                   15                      8                    200   \n7                   15                      8                    220   \n8                   15                      8                    240   \n9                   15                     12                    200   \n10                  15                     12                    220   \n11                  15                     12                    240   \n12                  20                      8                    200   \n13                  20                      8                    220   \n14                  20                      8                    240   \n15                  20                     12                    200   \n16                  20                     12                    220   \n17                  20                     12                    240   \n\n                                               params  split0_test_score  \\\n0   {'rf__max_depth': 10, 'rf__max_features': 8, '...           0.715399   \n1   {'rf__max_depth': 10, 'rf__max_features': 8, '...           0.715505   \n2   {'rf__max_depth': 10, 'rf__max_features': 8, '...           0.716037   \n3   {'rf__max_depth': 10, 'rf__max_features': 12, ...           0.719495   \n4   {'rf__max_depth': 10, 'rf__max_features': 12, ...           0.719521   \n5   {'rf__max_depth': 10, 'rf__max_features': 12, ...           0.720931   \n6   {'rf__max_depth': 15, 'rf__max_features': 8, '...           0.784495   \n7   {'rf__max_depth': 15, 'rf__max_features': 8, '...           0.784761   \n8   {'rf__max_depth': 15, 'rf__max_features': 8, '...           0.785532   \n9   {'rf__max_depth': 15, 'rf__max_features': 12, ...           0.790718   \n10  {'rf__max_depth': 15, 'rf__max_features': 12, ...           0.790745   \n11  {'rf__max_depth': 15, 'rf__max_features': 12, ...           0.791463   \n12  {'rf__max_depth': 20, 'rf__max_features': 8, '...           0.799867   \n13  {'rf__max_depth': 20, 'rf__max_features': 8, '...           0.799761   \n14  {'rf__max_depth': 20, 'rf__max_features': 8, '...           0.800452   \n15  {'rf__max_depth': 20, 'rf__max_features': 12, ...           0.803298   \n16  {'rf__max_depth': 20, 'rf__max_features': 12, ...           0.803750   \n17  {'rf__max_depth': 20, 'rf__max_features': 12, ...           0.804069   \n\n    split1_test_score  split2_test_score  mean_test_score  std_test_score  \\\n0            0.718005           0.718537         0.717314        0.001371   \n1            0.718378           0.718271         0.717385        0.001330   \n2            0.719229           0.718351         0.717872        0.001346   \n3            0.721702           0.720160         0.720452        0.000925   \n4            0.722128           0.720957         0.720869        0.001066   \n5            0.722181           0.720426         0.721179        0.000738   \n6            0.788378           0.787074         0.786649        0.001614   \n7            0.788617           0.787713         0.787030        0.001647   \n8            0.789495           0.788059         0.787695        0.001638   \n9            0.792473           0.791676         0.791622        0.000718   \n10           0.792074           0.792154         0.791658        0.000646   \n11           0.792074           0.792553         0.792030        0.000446   \n12           0.801170           0.800133         0.800390        0.000562   \n13           0.801197           0.800638         0.800532        0.000591   \n14           0.802207           0.801144         0.801268        0.000722   \n15           0.804415           0.803963         0.803892        0.000459   \n16           0.805080           0.804521         0.804450        0.000545   \n17           0.804681           0.804628         0.804459        0.000277   \n\n    rank_test_score  split0_train_score  split1_train_score  \\\n0                18            0.775598            0.774269   \n1                17            0.775931            0.774255   \n2                16            0.775785            0.774747   \n3                15            0.776436            0.776290   \n4                14            0.776569            0.775824   \n5                13            0.776968            0.776476   \n6                12            0.959521            0.959229   \n7                11            0.959375            0.959548   \n8                10            0.959282            0.959495   \n9                 9            0.960678            0.961742   \n10                8            0.960678            0.961795   \n11                7            0.961090            0.961729   \n12                6            0.989721            0.989176   \n13                5            0.989734            0.989229   \n14                4            0.989654            0.989122   \n15                3            0.990412            0.990013   \n16                2            0.990598            0.989947   \n17                1            0.990532            0.990066   \n\n    split2_train_score  mean_train_score  std_train_score  \n0             0.773910          0.774592         0.000726  \n1             0.774295          0.774827         0.000781  \n2             0.774681          0.775071         0.000505  \n3             0.776955          0.776560         0.000285  \n4             0.776995          0.776463         0.000484  \n5             0.777952          0.777132         0.000614  \n6             0.959402          0.959384         0.000120  \n7             0.959867          0.959597         0.000204  \n8             0.959668          0.959481         0.000158  \n9             0.961809          0.961410         0.000518  \n10            0.961782          0.961418         0.000523  \n11            0.961981          0.961600         0.000375  \n12            0.989149          0.989348         0.000264  \n13            0.989282          0.989415         0.000227  \n14            0.989242          0.989340         0.000228  \n15            0.990386          0.990270         0.000182  \n16            0.990386          0.990310         0.000271  \n17            0.990439          0.990346         0.000201  ",
      "text/html": "<div>\n<style scoped>\n    .dataframe tbody tr th:only-of-type {\n        vertical-align: middle;\n    }\n\n    .dataframe tbody tr th {\n        vertical-align: top;\n    }\n\n    .dataframe thead th {\n        text-align: right;\n    }\n</style>\n<table border=\"1\" class=\"dataframe\">\n  <thead>\n    <tr style=\"text-align: right;\">\n      <th></th>\n      <th>mean_fit_time</th>\n      <th>std_fit_time</th>\n      <th>mean_score_time</th>\n      <th>std_score_time</th>\n      <th>param_rf__max_depth</th>\n      <th>param_rf__max_features</th>\n      <th>param_rf__n_estimators</th>\n      <th>params</th>\n      <th>split0_test_score</th>\n      <th>split1_test_score</th>\n      <th>split2_test_score</th>\n      <th>mean_test_score</th>\n      <th>std_test_score</th>\n      <th>rank_test_score</th>\n      <th>split0_train_score</th>\n      <th>split1_train_score</th>\n      <th>split2_train_score</th>\n      <th>mean_train_score</th>\n      <th>std_train_score</th>\n    </tr>\n  </thead>\n  <tbody>\n    <tr>\n      <th>0</th>\n      <td>5.818900</td>\n      <td>0.223031</td>\n      <td>0.959079</td>\n      <td>0.011069</td>\n      <td>10</td>\n      <td>8</td>\n      <td>200</td>\n      <td>{'rf__max_depth': 10, 'rf__max_features': 8, '...</td>\n      <td>0.715399</td>\n      <td>0.718005</td>\n      <td>0.718537</td>\n      <td>0.717314</td>\n      <td>0.001371</td>\n      <td>18</td>\n      <td>0.775598</td>\n      <td>0.774269</td>\n      <td>0.773910</td>\n      <td>0.774592</td>\n      <td>0.000726</td>\n    </tr>\n    <tr>\n      <th>1</th>\n      <td>6.051052</td>\n      <td>0.018685</td>\n      <td>1.043403</td>\n      <td>0.010360</td>\n      <td>10</td>\n      <td>8</td>\n      <td>220</td>\n      <td>{'rf__max_depth': 10, 'rf__max_features': 8, '...</td>\n      <td>0.715505</td>\n      <td>0.718378</td>\n      <td>0.718271</td>\n      <td>0.717385</td>\n      <td>0.001330</td>\n      <td>17</td>\n      <td>0.775931</td>\n      <td>0.774255</td>\n      <td>0.774295</td>\n      <td>0.774827</td>\n      <td>0.000781</td>\n    </tr>\n    <tr>\n      <th>2</th>\n      <td>6.749746</td>\n      <td>0.110672</td>\n      <td>1.149856</td>\n      <td>0.035325</td>\n      <td>10</td>\n      <td>8</td>\n      <td>240</td>\n      <td>{'rf__max_depth': 10, 'rf__max_features': 8, '...</td>\n      <td>0.716037</td>\n      <td>0.719229</td>\n      <td>0.718351</td>\n      <td>0.717872</td>\n      <td>0.001346</td>\n      <td>16</td>\n      <td>0.775785</td>\n      <td>0.774747</td>\n      <td>0.774681</td>\n      <td>0.775071</td>\n      <td>0.000505</td>\n    </tr>\n    <tr>\n      <th>3</th>\n      <td>7.660205</td>\n      <td>0.084818</td>\n      <td>0.949422</td>\n      <td>0.004279</td>\n      <td>10</td>\n      <td>12</td>\n      <td>200</td>\n      <td>{'rf__max_depth': 10, 'rf__max_features': 12, ...</td>\n      <td>0.719495</td>\n      <td>0.721702</td>\n      <td>0.720160</td>\n      <td>0.720452</td>\n      <td>0.000925</td>\n      <td>15</td>\n      <td>0.776436</td>\n      <td>0.776290</td>\n      <td>0.776955</td>\n      <td>0.776560</td>\n      <td>0.000285</td>\n    </tr>\n    <tr>\n      <th>4</th>\n      <td>8.320156</td>\n      <td>0.176406</td>\n      <td>1.030707</td>\n      <td>0.008696</td>\n      <td>10</td>\n      <td>12</td>\n      <td>220</td>\n      <td>{'rf__max_depth': 10, 'rf__max_features': 12, ...</td>\n      <td>0.719521</td>\n      <td>0.722128</td>\n      <td>0.720957</td>\n      <td>0.720869</td>\n      <td>0.001066</td>\n      <td>14</td>\n      <td>0.776569</td>\n      <td>0.775824</td>\n      <td>0.776995</td>\n      <td>0.776463</td>\n      <td>0.000484</td>\n    </tr>\n    <tr>\n      <th>5</th>\n      <td>9.254023</td>\n      <td>0.281810</td>\n      <td>1.121901</td>\n      <td>0.008366</td>\n      <td>10</td>\n      <td>12</td>\n      <td>240</td>\n      <td>{'rf__max_depth': 10, 'rf__max_features': 12, ...</td>\n      <td>0.720931</td>\n      <td>0.722181</td>\n      <td>0.720426</td>\n      <td>0.721179</td>\n      <td>0.000738</td>\n      <td>13</td>\n      <td>0.776968</td>\n      <td>0.776476</td>\n      <td>0.777952</td>\n      <td>0.777132</td>\n      <td>0.000614</td>\n    </tr>\n    <tr>\n      <th>6</th>\n      <td>9.120827</td>\n      <td>0.120528</td>\n      <td>1.216845</td>\n      <td>0.077755</td>\n      <td>15</td>\n      <td>8</td>\n      <td>200</td>\n      <td>{'rf__max_depth': 15, 'rf__max_features': 8, '...</td>\n      <td>0.784495</td>\n      <td>0.788378</td>\n      <td>0.787074</td>\n      <td>0.786649</td>\n      <td>0.001614</td>\n      <td>12</td>\n      <td>0.959521</td>\n      <td>0.959229</td>\n      <td>0.959402</td>\n      <td>0.959384</td>\n      <td>0.000120</td>\n    </tr>\n    <tr>\n      <th>7</th>\n      <td>10.254289</td>\n      <td>0.280434</td>\n      <td>1.405691</td>\n      <td>0.086486</td>\n      <td>15</td>\n      <td>8</td>\n      <td>220</td>\n      <td>{'rf__max_depth': 15, 'rf__max_features': 8, '...</td>\n      <td>0.784761</td>\n      <td>0.788617</td>\n      <td>0.787713</td>\n      <td>0.787030</td>\n      <td>0.001647</td>\n      <td>11</td>\n      <td>0.959375</td>\n      <td>0.959548</td>\n      <td>0.959867</td>\n      <td>0.959597</td>\n      <td>0.000204</td>\n    </tr>\n    <tr>\n      <th>8</th>\n      <td>10.869624</td>\n      <td>0.208776</td>\n      <td>1.386781</td>\n      <td>0.012956</td>\n      <td>15</td>\n      <td>8</td>\n      <td>240</td>\n      <td>{'rf__max_depth': 15, 'rf__max_features': 8, '...</td>\n      <td>0.785532</td>\n      <td>0.789495</td>\n      <td>0.788059</td>\n      <td>0.787695</td>\n      <td>0.001638</td>\n      <td>10</td>\n      <td>0.959282</td>\n      <td>0.959495</td>\n      <td>0.959668</td>\n      <td>0.959481</td>\n      <td>0.000158</td>\n    </tr>\n    <tr>\n      <th>9</th>\n      <td>11.636990</td>\n      <td>0.091744</td>\n      <td>1.160446</td>\n      <td>0.009721</td>\n      <td>15</td>\n      <td>12</td>\n      <td>200</td>\n      <td>{'rf__max_depth': 15, 'rf__max_features': 12, ...</td>\n      <td>0.790718</td>\n      <td>0.792473</td>\n      <td>0.791676</td>\n      <td>0.791622</td>\n      <td>0.000718</td>\n      <td>9</td>\n      <td>0.960678</td>\n      <td>0.961742</td>\n      <td>0.961809</td>\n      <td>0.961410</td>\n      <td>0.000518</td>\n    </tr>\n    <tr>\n      <th>10</th>\n      <td>12.979613</td>\n      <td>0.295949</td>\n      <td>1.336697</td>\n      <td>0.102146</td>\n      <td>15</td>\n      <td>12</td>\n      <td>220</td>\n      <td>{'rf__max_depth': 15, 'rf__max_features': 12, ...</td>\n      <td>0.790745</td>\n      <td>0.792074</td>\n      <td>0.792154</td>\n      <td>0.791658</td>\n      <td>0.000646</td>\n      <td>8</td>\n      <td>0.960678</td>\n      <td>0.961795</td>\n      <td>0.961782</td>\n      <td>0.961418</td>\n      <td>0.000523</td>\n    </tr>\n    <tr>\n      <th>11</th>\n      <td>13.894480</td>\n      <td>0.069352</td>\n      <td>1.427748</td>\n      <td>0.040786</td>\n      <td>15</td>\n      <td>12</td>\n      <td>240</td>\n      <td>{'rf__max_depth': 15, 'rf__max_features': 12, ...</td>\n      <td>0.791463</td>\n      <td>0.792074</td>\n      <td>0.792553</td>\n      <td>0.792030</td>\n      <td>0.000446</td>\n      <td>7</td>\n      <td>0.961090</td>\n      <td>0.961729</td>\n      <td>0.961981</td>\n      <td>0.961600</td>\n      <td>0.000375</td>\n    </tr>\n    <tr>\n      <th>12</th>\n      <td>10.961063</td>\n      <td>0.116420</td>\n      <td>1.251206</td>\n      <td>0.027412</td>\n      <td>20</td>\n      <td>8</td>\n      <td>200</td>\n      <td>{'rf__max_depth': 20, 'rf__max_features': 8, '...</td>\n      <td>0.799867</td>\n      <td>0.801170</td>\n      <td>0.800133</td>\n      <td>0.800390</td>\n      <td>0.000562</td>\n      <td>6</td>\n      <td>0.989721</td>\n      <td>0.989176</td>\n      <td>0.989149</td>\n      <td>0.989348</td>\n      <td>0.000264</td>\n    </tr>\n    <tr>\n      <th>13</th>\n      <td>11.957475</td>\n      <td>0.139272</td>\n      <td>1.388687</td>\n      <td>0.050858</td>\n      <td>20</td>\n      <td>8</td>\n      <td>220</td>\n      <td>{'rf__max_depth': 20, 'rf__max_features': 8, '...</td>\n      <td>0.799761</td>\n      <td>0.801197</td>\n      <td>0.800638</td>\n      <td>0.800532</td>\n      <td>0.000591</td>\n      <td>5</td>\n      <td>0.989734</td>\n      <td>0.989229</td>\n      <td>0.989282</td>\n      <td>0.989415</td>\n      <td>0.000227</td>\n    </tr>\n    <tr>\n      <th>14</th>\n      <td>13.226476</td>\n      <td>0.294855</td>\n      <td>1.537126</td>\n      <td>0.078528</td>\n      <td>20</td>\n      <td>8</td>\n      <td>240</td>\n      <td>{'rf__max_depth': 20, 'rf__max_features': 8, '...</td>\n      <td>0.800452</td>\n      <td>0.802207</td>\n      <td>0.801144</td>\n      <td>0.801268</td>\n      <td>0.000722</td>\n      <td>4</td>\n      <td>0.989654</td>\n      <td>0.989122</td>\n      <td>0.989242</td>\n      <td>0.989340</td>\n      <td>0.000228</td>\n    </tr>\n    <tr>\n      <th>15</th>\n      <td>13.216032</td>\n      <td>0.020010</td>\n      <td>1.222403</td>\n      <td>0.009545</td>\n      <td>20</td>\n      <td>12</td>\n      <td>200</td>\n      <td>{'rf__max_depth': 20, 'rf__max_features': 12, ...</td>\n      <td>0.803298</td>\n      <td>0.804415</td>\n      <td>0.803963</td>\n      <td>0.803892</td>\n      <td>0.000459</td>\n      <td>3</td>\n      <td>0.990412</td>\n      <td>0.990013</td>\n      <td>0.990386</td>\n      <td>0.990270</td>\n      <td>0.000182</td>\n    </tr>\n    <tr>\n      <th>16</th>\n      <td>15.073571</td>\n      <td>0.283457</td>\n      <td>1.362641</td>\n      <td>0.042916</td>\n      <td>20</td>\n      <td>12</td>\n      <td>220</td>\n      <td>{'rf__max_depth': 20, 'rf__max_features': 12, ...</td>\n      <td>0.803750</td>\n      <td>0.805080</td>\n      <td>0.804521</td>\n      <td>0.804450</td>\n      <td>0.000545</td>\n      <td>2</td>\n      <td>0.990598</td>\n      <td>0.989947</td>\n      <td>0.990386</td>\n      <td>0.990310</td>\n      <td>0.000271</td>\n    </tr>\n    <tr>\n      <th>17</th>\n      <td>15.985045</td>\n      <td>0.097209</td>\n      <td>1.452956</td>\n      <td>0.003944</td>\n      <td>20</td>\n      <td>12</td>\n      <td>240</td>\n      <td>{'rf__max_depth': 20, 'rf__max_features': 12, ...</td>\n      <td>0.804069</td>\n      <td>0.804681</td>\n      <td>0.804628</td>\n      <td>0.804459</td>\n      <td>0.000277</td>\n      <td>1</td>\n      <td>0.990532</td>\n      <td>0.990066</td>\n      <td>0.990439</td>\n      <td>0.990346</td>\n      <td>0.000201</td>\n    </tr>\n  </tbody>\n</table>\n</div>"
     },
     "execution_count": 75,
     "metadata": {},
     "output_type": "execute_result"
    }
   ],
   "source": [
    "cv_res = pd.DataFrame(grid_search.cv_results_)\n",
    "cv_res"
   ],
   "metadata": {
    "collapsed": false
   }
  },
  {
   "cell_type": "code",
   "execution_count": 76,
   "outputs": [],
   "source": [
    "score_cols = [\"test0\", \"test1\", \"test2\", \"mean_test\", \"train0\", \"train1\", \"train2\", \"mean_train\"]"
   ],
   "metadata": {
    "collapsed": false
   }
  },
  {
   "cell_type": "code",
   "execution_count": 77,
   "outputs": [],
   "source": [
    "cv_res.sort_values(by=\"mean_test_score\", ascending=False, inplace=True)\n",
    "cv_res = cv_res[[\"param_rf__n_estimators\", \"param_rf__max_features\",\n",
    "                 \"param_rf__max_depth\", \"split0_test_score\",\n",
    "                 \"split1_test_score\", \"split2_test_score\", \"mean_test_score\",\n",
    "                 \"split0_train_score\", \"split1_train_score\", \"split2_train_score\", \"mean_train_score\"]]\n",
    "cv_res.columns = [\"n_estimators\", \"max_features\", \"max_depth\"] + score_cols"
   ],
   "metadata": {
    "collapsed": false
   }
  },
  {
   "cell_type": "code",
   "execution_count": 78,
   "outputs": [
    {
     "data": {
      "text/plain": "   n_estimators max_features max_depth     test0     test1     test2  \\\n17          240           12        20  0.804069  0.804681  0.804628   \n16          220           12        20  0.803750  0.805080  0.804521   \n15          200           12        20  0.803298  0.804415  0.803963   \n14          240            8        20  0.800452  0.802207  0.801144   \n13          220            8        20  0.799761  0.801197  0.800638   \n12          200            8        20  0.799867  0.801170  0.800133   \n11          240           12        15  0.791463  0.792074  0.792553   \n10          220           12        15  0.790745  0.792074  0.792154   \n9           200           12        15  0.790718  0.792473  0.791676   \n8           240            8        15  0.785532  0.789495  0.788059   \n7           220            8        15  0.784761  0.788617  0.787713   \n6           200            8        15  0.784495  0.788378  0.787074   \n5           240           12        10  0.720931  0.722181  0.720426   \n4           220           12        10  0.719521  0.722128  0.720957   \n3           200           12        10  0.719495  0.721702  0.720160   \n2           240            8        10  0.716037  0.719229  0.718351   \n1           220            8        10  0.715505  0.718378  0.718271   \n0           200            8        10  0.715399  0.718005  0.718537   \n\n    mean_test    train0    train1    train2  mean_train  \n17   0.804459  0.990532  0.990066  0.990439    0.990346  \n16   0.804450  0.990598  0.989947  0.990386    0.990310  \n15   0.803892  0.990412  0.990013  0.990386    0.990270  \n14   0.801268  0.989654  0.989122  0.989242    0.989340  \n13   0.800532  0.989734  0.989229  0.989282    0.989415  \n12   0.800390  0.989721  0.989176  0.989149    0.989348  \n11   0.792030  0.961090  0.961729  0.961981    0.961600  \n10   0.791658  0.960678  0.961795  0.961782    0.961418  \n9    0.791622  0.960678  0.961742  0.961809    0.961410  \n8    0.787695  0.959282  0.959495  0.959668    0.959481  \n7    0.787030  0.959375  0.959548  0.959867    0.959597  \n6    0.786649  0.959521  0.959229  0.959402    0.959384  \n5    0.721179  0.776968  0.776476  0.777952    0.777132  \n4    0.720869  0.776569  0.775824  0.776995    0.776463  \n3    0.720452  0.776436  0.776290  0.776955    0.776560  \n2    0.717872  0.775785  0.774747  0.774681    0.775071  \n1    0.717385  0.775931  0.774255  0.774295    0.774827  \n0    0.717314  0.775598  0.774269  0.773910    0.774592  ",
      "text/html": "<div>\n<style scoped>\n    .dataframe tbody tr th:only-of-type {\n        vertical-align: middle;\n    }\n\n    .dataframe tbody tr th {\n        vertical-align: top;\n    }\n\n    .dataframe thead th {\n        text-align: right;\n    }\n</style>\n<table border=\"1\" class=\"dataframe\">\n  <thead>\n    <tr style=\"text-align: right;\">\n      <th></th>\n      <th>n_estimators</th>\n      <th>max_features</th>\n      <th>max_depth</th>\n      <th>test0</th>\n      <th>test1</th>\n      <th>test2</th>\n      <th>mean_test</th>\n      <th>train0</th>\n      <th>train1</th>\n      <th>train2</th>\n      <th>mean_train</th>\n    </tr>\n  </thead>\n  <tbody>\n    <tr>\n      <th>17</th>\n      <td>240</td>\n      <td>12</td>\n      <td>20</td>\n      <td>0.804069</td>\n      <td>0.804681</td>\n      <td>0.804628</td>\n      <td>0.804459</td>\n      <td>0.990532</td>\n      <td>0.990066</td>\n      <td>0.990439</td>\n      <td>0.990346</td>\n    </tr>\n    <tr>\n      <th>16</th>\n      <td>220</td>\n      <td>12</td>\n      <td>20</td>\n      <td>0.803750</td>\n      <td>0.805080</td>\n      <td>0.804521</td>\n      <td>0.804450</td>\n      <td>0.990598</td>\n      <td>0.989947</td>\n      <td>0.990386</td>\n      <td>0.990310</td>\n    </tr>\n    <tr>\n      <th>15</th>\n      <td>200</td>\n      <td>12</td>\n      <td>20</td>\n      <td>0.803298</td>\n      <td>0.804415</td>\n      <td>0.803963</td>\n      <td>0.803892</td>\n      <td>0.990412</td>\n      <td>0.990013</td>\n      <td>0.990386</td>\n      <td>0.990270</td>\n    </tr>\n    <tr>\n      <th>14</th>\n      <td>240</td>\n      <td>8</td>\n      <td>20</td>\n      <td>0.800452</td>\n      <td>0.802207</td>\n      <td>0.801144</td>\n      <td>0.801268</td>\n      <td>0.989654</td>\n      <td>0.989122</td>\n      <td>0.989242</td>\n      <td>0.989340</td>\n    </tr>\n    <tr>\n      <th>13</th>\n      <td>220</td>\n      <td>8</td>\n      <td>20</td>\n      <td>0.799761</td>\n      <td>0.801197</td>\n      <td>0.800638</td>\n      <td>0.800532</td>\n      <td>0.989734</td>\n      <td>0.989229</td>\n      <td>0.989282</td>\n      <td>0.989415</td>\n    </tr>\n    <tr>\n      <th>12</th>\n      <td>200</td>\n      <td>8</td>\n      <td>20</td>\n      <td>0.799867</td>\n      <td>0.801170</td>\n      <td>0.800133</td>\n      <td>0.800390</td>\n      <td>0.989721</td>\n      <td>0.989176</td>\n      <td>0.989149</td>\n      <td>0.989348</td>\n    </tr>\n    <tr>\n      <th>11</th>\n      <td>240</td>\n      <td>12</td>\n      <td>15</td>\n      <td>0.791463</td>\n      <td>0.792074</td>\n      <td>0.792553</td>\n      <td>0.792030</td>\n      <td>0.961090</td>\n      <td>0.961729</td>\n      <td>0.961981</td>\n      <td>0.961600</td>\n    </tr>\n    <tr>\n      <th>10</th>\n      <td>220</td>\n      <td>12</td>\n      <td>15</td>\n      <td>0.790745</td>\n      <td>0.792074</td>\n      <td>0.792154</td>\n      <td>0.791658</td>\n      <td>0.960678</td>\n      <td>0.961795</td>\n      <td>0.961782</td>\n      <td>0.961418</td>\n    </tr>\n    <tr>\n      <th>9</th>\n      <td>200</td>\n      <td>12</td>\n      <td>15</td>\n      <td>0.790718</td>\n      <td>0.792473</td>\n      <td>0.791676</td>\n      <td>0.791622</td>\n      <td>0.960678</td>\n      <td>0.961742</td>\n      <td>0.961809</td>\n      <td>0.961410</td>\n    </tr>\n    <tr>\n      <th>8</th>\n      <td>240</td>\n      <td>8</td>\n      <td>15</td>\n      <td>0.785532</td>\n      <td>0.789495</td>\n      <td>0.788059</td>\n      <td>0.787695</td>\n      <td>0.959282</td>\n      <td>0.959495</td>\n      <td>0.959668</td>\n      <td>0.959481</td>\n    </tr>\n    <tr>\n      <th>7</th>\n      <td>220</td>\n      <td>8</td>\n      <td>15</td>\n      <td>0.784761</td>\n      <td>0.788617</td>\n      <td>0.787713</td>\n      <td>0.787030</td>\n      <td>0.959375</td>\n      <td>0.959548</td>\n      <td>0.959867</td>\n      <td>0.959597</td>\n    </tr>\n    <tr>\n      <th>6</th>\n      <td>200</td>\n      <td>8</td>\n      <td>15</td>\n      <td>0.784495</td>\n      <td>0.788378</td>\n      <td>0.787074</td>\n      <td>0.786649</td>\n      <td>0.959521</td>\n      <td>0.959229</td>\n      <td>0.959402</td>\n      <td>0.959384</td>\n    </tr>\n    <tr>\n      <th>5</th>\n      <td>240</td>\n      <td>12</td>\n      <td>10</td>\n      <td>0.720931</td>\n      <td>0.722181</td>\n      <td>0.720426</td>\n      <td>0.721179</td>\n      <td>0.776968</td>\n      <td>0.776476</td>\n      <td>0.777952</td>\n      <td>0.777132</td>\n    </tr>\n    <tr>\n      <th>4</th>\n      <td>220</td>\n      <td>12</td>\n      <td>10</td>\n      <td>0.719521</td>\n      <td>0.722128</td>\n      <td>0.720957</td>\n      <td>0.720869</td>\n      <td>0.776569</td>\n      <td>0.775824</td>\n      <td>0.776995</td>\n      <td>0.776463</td>\n    </tr>\n    <tr>\n      <th>3</th>\n      <td>200</td>\n      <td>12</td>\n      <td>10</td>\n      <td>0.719495</td>\n      <td>0.721702</td>\n      <td>0.720160</td>\n      <td>0.720452</td>\n      <td>0.776436</td>\n      <td>0.776290</td>\n      <td>0.776955</td>\n      <td>0.776560</td>\n    </tr>\n    <tr>\n      <th>2</th>\n      <td>240</td>\n      <td>8</td>\n      <td>10</td>\n      <td>0.716037</td>\n      <td>0.719229</td>\n      <td>0.718351</td>\n      <td>0.717872</td>\n      <td>0.775785</td>\n      <td>0.774747</td>\n      <td>0.774681</td>\n      <td>0.775071</td>\n    </tr>\n    <tr>\n      <th>1</th>\n      <td>220</td>\n      <td>8</td>\n      <td>10</td>\n      <td>0.715505</td>\n      <td>0.718378</td>\n      <td>0.718271</td>\n      <td>0.717385</td>\n      <td>0.775931</td>\n      <td>0.774255</td>\n      <td>0.774295</td>\n      <td>0.774827</td>\n    </tr>\n    <tr>\n      <th>0</th>\n      <td>200</td>\n      <td>8</td>\n      <td>10</td>\n      <td>0.715399</td>\n      <td>0.718005</td>\n      <td>0.718537</td>\n      <td>0.717314</td>\n      <td>0.775598</td>\n      <td>0.774269</td>\n      <td>0.773910</td>\n      <td>0.774592</td>\n    </tr>\n  </tbody>\n</table>\n</div>"
     },
     "execution_count": 78,
     "metadata": {},
     "output_type": "execute_result"
    }
   ],
   "source": [
    "cv_res"
   ],
   "metadata": {
    "collapsed": false
   }
  },
  {
   "cell_type": "code",
   "execution_count": 79,
   "outputs": [],
   "source": [
    "param_grid = {\n",
    "    'rf__n_estimators': [240, 280, 320],\n",
    "    'rf__max_features': [15, 25],\n",
    "    'rf__max_depth': [18, 27, 36]\n",
    "}\n",
    "\n",
    "grid_search = GridSearchCV(rf_pipe, param_grid=param_grid,\n",
    "                           cv=3, scoring='accuracy', return_train_score=True)"
   ],
   "metadata": {
    "collapsed": false
   }
  },
  {
   "cell_type": "code",
   "execution_count": 80,
   "outputs": [
    {
     "data": {
      "text/plain": "GridSearchCV(cv=3,\n             estimator=Pipeline(steps=[('scaler', MinMaxScaler()),\n                                       ('rf',\n                                        RandomForestClassifier(n_jobs=4,\n                                                               random_state=42))]),\n             param_grid={'rf__max_depth': [18, 27, 36],\n                         'rf__max_features': [15, 25],\n                         'rf__n_estimators': [240, 280, 320]},\n             return_train_score=True, scoring='accuracy')",
      "text/html": "<style>#sk-container-id-8 {color: black;background-color: white;}#sk-container-id-8 pre{padding: 0;}#sk-container-id-8 div.sk-toggleable {background-color: white;}#sk-container-id-8 label.sk-toggleable__label {cursor: pointer;display: block;width: 100%;margin-bottom: 0;padding: 0.3em;box-sizing: border-box;text-align: center;}#sk-container-id-8 label.sk-toggleable__label-arrow:before {content: \"▸\";float: left;margin-right: 0.25em;color: #696969;}#sk-container-id-8 label.sk-toggleable__label-arrow:hover:before {color: black;}#sk-container-id-8 div.sk-estimator:hover label.sk-toggleable__label-arrow:before {color: black;}#sk-container-id-8 div.sk-toggleable__content {max-height: 0;max-width: 0;overflow: hidden;text-align: left;background-color: #f0f8ff;}#sk-container-id-8 div.sk-toggleable__content pre {margin: 0.2em;color: black;border-radius: 0.25em;background-color: #f0f8ff;}#sk-container-id-8 input.sk-toggleable__control:checked~div.sk-toggleable__content {max-height: 200px;max-width: 100%;overflow: auto;}#sk-container-id-8 input.sk-toggleable__control:checked~label.sk-toggleable__label-arrow:before {content: \"▾\";}#sk-container-id-8 div.sk-estimator input.sk-toggleable__control:checked~label.sk-toggleable__label {background-color: #d4ebff;}#sk-container-id-8 div.sk-label input.sk-toggleable__control:checked~label.sk-toggleable__label {background-color: #d4ebff;}#sk-container-id-8 input.sk-hidden--visually {border: 0;clip: rect(1px 1px 1px 1px);clip: rect(1px, 1px, 1px, 1px);height: 1px;margin: -1px;overflow: hidden;padding: 0;position: absolute;width: 1px;}#sk-container-id-8 div.sk-estimator {font-family: monospace;background-color: #f0f8ff;border: 1px dotted black;border-radius: 0.25em;box-sizing: border-box;margin-bottom: 0.5em;}#sk-container-id-8 div.sk-estimator:hover {background-color: #d4ebff;}#sk-container-id-8 div.sk-parallel-item::after {content: \"\";width: 100%;border-bottom: 1px solid gray;flex-grow: 1;}#sk-container-id-8 div.sk-label:hover label.sk-toggleable__label {background-color: #d4ebff;}#sk-container-id-8 div.sk-serial::before {content: \"\";position: absolute;border-left: 1px solid gray;box-sizing: border-box;top: 0;bottom: 0;left: 50%;z-index: 0;}#sk-container-id-8 div.sk-serial {display: flex;flex-direction: column;align-items: center;background-color: white;padding-right: 0.2em;padding-left: 0.2em;position: relative;}#sk-container-id-8 div.sk-item {position: relative;z-index: 1;}#sk-container-id-8 div.sk-parallel {display: flex;align-items: stretch;justify-content: center;background-color: white;position: relative;}#sk-container-id-8 div.sk-item::before, #sk-container-id-8 div.sk-parallel-item::before {content: \"\";position: absolute;border-left: 1px solid gray;box-sizing: border-box;top: 0;bottom: 0;left: 50%;z-index: -1;}#sk-container-id-8 div.sk-parallel-item {display: flex;flex-direction: column;z-index: 1;position: relative;background-color: white;}#sk-container-id-8 div.sk-parallel-item:first-child::after {align-self: flex-end;width: 50%;}#sk-container-id-8 div.sk-parallel-item:last-child::after {align-self: flex-start;width: 50%;}#sk-container-id-8 div.sk-parallel-item:only-child::after {width: 0;}#sk-container-id-8 div.sk-dashed-wrapped {border: 1px dashed gray;margin: 0 0.4em 0.5em 0.4em;box-sizing: border-box;padding-bottom: 0.4em;background-color: white;}#sk-container-id-8 div.sk-label label {font-family: monospace;font-weight: bold;display: inline-block;line-height: 1.2em;}#sk-container-id-8 div.sk-label-container {text-align: center;}#sk-container-id-8 div.sk-container {/* jupyter's `normalize.less` sets `[hidden] { display: none; }` but bootstrap.min.css set `[hidden] { display: none !important; }` so we also need the `!important` here to be able to override the default hidden behavior on the sphinx rendered scikit-learn.org. See: https://github.com/scikit-learn/scikit-learn/issues/21755 */display: inline-block !important;position: relative;}#sk-container-id-8 div.sk-text-repr-fallback {display: none;}</style><div id=\"sk-container-id-8\" class=\"sk-top-container\"><div class=\"sk-text-repr-fallback\"><pre>GridSearchCV(cv=3,\n             estimator=Pipeline(steps=[(&#x27;scaler&#x27;, MinMaxScaler()),\n                                       (&#x27;rf&#x27;,\n                                        RandomForestClassifier(n_jobs=4,\n                                                               random_state=42))]),\n             param_grid={&#x27;rf__max_depth&#x27;: [18, 27, 36],\n                         &#x27;rf__max_features&#x27;: [15, 25],\n                         &#x27;rf__n_estimators&#x27;: [240, 280, 320]},\n             return_train_score=True, scoring=&#x27;accuracy&#x27;)</pre><b>In a Jupyter environment, please rerun this cell to show the HTML representation or trust the notebook. <br />On GitHub, the HTML representation is unable to render, please try loading this page with nbviewer.org.</b></div><div class=\"sk-container\" hidden><div class=\"sk-item sk-dashed-wrapped\"><div class=\"sk-label-container\"><div class=\"sk-label sk-toggleable\"><input class=\"sk-toggleable__control sk-hidden--visually\" id=\"sk-estimator-id-23\" type=\"checkbox\" ><label for=\"sk-estimator-id-23\" class=\"sk-toggleable__label sk-toggleable__label-arrow\">GridSearchCV</label><div class=\"sk-toggleable__content\"><pre>GridSearchCV(cv=3,\n             estimator=Pipeline(steps=[(&#x27;scaler&#x27;, MinMaxScaler()),\n                                       (&#x27;rf&#x27;,\n                                        RandomForestClassifier(n_jobs=4,\n                                                               random_state=42))]),\n             param_grid={&#x27;rf__max_depth&#x27;: [18, 27, 36],\n                         &#x27;rf__max_features&#x27;: [15, 25],\n                         &#x27;rf__n_estimators&#x27;: [240, 280, 320]},\n             return_train_score=True, scoring=&#x27;accuracy&#x27;)</pre></div></div></div><div class=\"sk-parallel\"><div class=\"sk-parallel-item\"><div class=\"sk-item\"><div class=\"sk-label-container\"><div class=\"sk-label sk-toggleable\"><input class=\"sk-toggleable__control sk-hidden--visually\" id=\"sk-estimator-id-24\" type=\"checkbox\" ><label for=\"sk-estimator-id-24\" class=\"sk-toggleable__label sk-toggleable__label-arrow\">estimator: Pipeline</label><div class=\"sk-toggleable__content\"><pre>Pipeline(steps=[(&#x27;scaler&#x27;, MinMaxScaler()),\n                (&#x27;rf&#x27;, RandomForestClassifier(n_jobs=4, random_state=42))])</pre></div></div></div><div class=\"sk-serial\"><div class=\"sk-item\"><div class=\"sk-serial\"><div class=\"sk-item\"><div class=\"sk-estimator sk-toggleable\"><input class=\"sk-toggleable__control sk-hidden--visually\" id=\"sk-estimator-id-25\" type=\"checkbox\" ><label for=\"sk-estimator-id-25\" class=\"sk-toggleable__label sk-toggleable__label-arrow\">MinMaxScaler</label><div class=\"sk-toggleable__content\"><pre>MinMaxScaler()</pre></div></div></div><div class=\"sk-item\"><div class=\"sk-estimator sk-toggleable\"><input class=\"sk-toggleable__control sk-hidden--visually\" id=\"sk-estimator-id-26\" type=\"checkbox\" ><label for=\"sk-estimator-id-26\" class=\"sk-toggleable__label sk-toggleable__label-arrow\">RandomForestClassifier</label><div class=\"sk-toggleable__content\"><pre>RandomForestClassifier(n_jobs=4, random_state=42)</pre></div></div></div></div></div></div></div></div></div></div></div></div>"
     },
     "execution_count": 80,
     "metadata": {},
     "output_type": "execute_result"
    }
   ],
   "source": [
    "grid_search.fit(dc.X_train, dc.y_train)"
   ],
   "metadata": {
    "collapsed": false
   }
  },
  {
   "cell_type": "code",
   "execution_count": null,
   "outputs": [],
   "source": [],
   "metadata": {
    "collapsed": false
   }
  }
 ],
 "metadata": {
  "kernelspec": {
   "display_name": "Python 3",
   "language": "python",
   "name": "python3"
  },
  "language_info": {
   "codemirror_mode": {
    "name": "ipython",
    "version": 2
   },
   "file_extension": ".py",
   "mimetype": "text/x-python",
   "name": "python",
   "nbconvert_exporter": "python",
   "pygments_lexer": "ipython2",
   "version": "2.7.6"
  }
 },
 "nbformat": 4,
 "nbformat_minor": 0
}
